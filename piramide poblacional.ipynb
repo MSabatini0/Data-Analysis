{
 "cells": [
  {
   "cell_type": "code",
   "execution_count": 213,
   "id": "0499d3da",
   "metadata": {},
   "outputs": [],
   "source": [
    "import pandas as pd\n",
    "import numpy as np\n",
    "import matplotlib.pyplot as plt\n",
    "import plotly.graph_objects as gp"
   ]
  },
  {
   "cell_type": "code",
   "execution_count": 14,
   "id": "57047b51",
   "metadata": {},
   "outputs": [],
   "source": [
    "data = pd.read_excel('datos argentina.xls')"
   ]
  },
  {
   "cell_type": "code",
   "execution_count": 20,
   "id": "88d7d5e0",
   "metadata": {},
   "outputs": [
    {
     "data": {
      "text/html": [
       "<div>\n",
       "<style scoped>\n",
       "    .dataframe tbody tr th:only-of-type {\n",
       "        vertical-align: middle;\n",
       "    }\n",
       "\n",
       "    .dataframe tbody tr th {\n",
       "        vertical-align: top;\n",
       "    }\n",
       "\n",
       "    .dataframe thead th {\n",
       "        text-align: right;\n",
       "    }\n",
       "</style>\n",
       "<table border=\"1\" class=\"dataframe\">\n",
       "  <thead>\n",
       "    <tr style=\"text-align: right;\">\n",
       "      <th></th>\n",
       "      <th>Indicator Name</th>\n",
       "      <th>1960</th>\n",
       "      <th>1961</th>\n",
       "      <th>1962</th>\n",
       "      <th>1963</th>\n",
       "      <th>1964</th>\n",
       "      <th>1965</th>\n",
       "      <th>1966</th>\n",
       "      <th>1967</th>\n",
       "      <th>1968</th>\n",
       "      <th>...</th>\n",
       "      <th>2012</th>\n",
       "      <th>2013</th>\n",
       "      <th>2014</th>\n",
       "      <th>2015</th>\n",
       "      <th>2016</th>\n",
       "      <th>2017</th>\n",
       "      <th>2018</th>\n",
       "      <th>2019</th>\n",
       "      <th>2020</th>\n",
       "      <th>2021</th>\n",
       "    </tr>\n",
       "  </thead>\n",
       "  <tbody>\n",
       "    <tr>\n",
       "      <th>25</th>\n",
       "      <td>Population ages 00-04, female (% of female pop...</td>\n",
       "      <td>10.880492</td>\n",
       "      <td>10.814175</td>\n",
       "      <td>10.723061</td>\n",
       "      <td>10.616184</td>\n",
       "      <td>10.510121</td>\n",
       "      <td>10.416625</td>\n",
       "      <td>10.345404</td>\n",
       "      <td>10.274409</td>\n",
       "      <td>10.215075</td>\n",
       "      <td>...</td>\n",
       "      <td>8.327772</td>\n",
       "      <td>8.311181</td>\n",
       "      <td>8.291125</td>\n",
       "      <td>8.252970</td>\n",
       "      <td>8.227326</td>\n",
       "      <td>8.170209</td>\n",
       "      <td>8.090226</td>\n",
       "      <td>8.003401</td>\n",
       "      <td>7.920051</td>\n",
       "      <td>NaN</td>\n",
       "    </tr>\n",
       "    <tr>\n",
       "      <th>26</th>\n",
       "      <td>Population ages 00-04, male (% of male populat...</td>\n",
       "      <td>11.038622</td>\n",
       "      <td>10.986151</td>\n",
       "      <td>10.912598</td>\n",
       "      <td>10.825903</td>\n",
       "      <td>10.740156</td>\n",
       "      <td>10.665282</td>\n",
       "      <td>10.612063</td>\n",
       "      <td>10.562362</td>\n",
       "      <td>10.525212</td>\n",
       "      <td>...</td>\n",
       "      <td>9.110026</td>\n",
       "      <td>9.086451</td>\n",
       "      <td>9.059245</td>\n",
       "      <td>9.013390</td>\n",
       "      <td>8.981557</td>\n",
       "      <td>8.915344</td>\n",
       "      <td>8.824435</td>\n",
       "      <td>8.726362</td>\n",
       "      <td>8.632652</td>\n",
       "      <td>NaN</td>\n",
       "    </tr>\n",
       "    <tr>\n",
       "      <th>27</th>\n",
       "      <td>Population ages 0-14, female (% of female popu...</td>\n",
       "      <td>30.896328</td>\n",
       "      <td>30.756378</td>\n",
       "      <td>30.562933</td>\n",
       "      <td>30.332223</td>\n",
       "      <td>30.089554</td>\n",
       "      <td>29.849081</td>\n",
       "      <td>29.657402</td>\n",
       "      <td>29.462316</td>\n",
       "      <td>29.272533</td>\n",
       "      <td>...</td>\n",
       "      <td>24.544183</td>\n",
       "      <td>24.413736</td>\n",
       "      <td>24.283106</td>\n",
       "      <td>24.137262</td>\n",
       "      <td>24.016808</td>\n",
       "      <td>23.875353</td>\n",
       "      <td>23.720665</td>\n",
       "      <td>23.565956</td>\n",
       "      <td>23.415736</td>\n",
       "      <td>NaN</td>\n",
       "    </tr>\n",
       "    <tr>\n",
       "      <th>28</th>\n",
       "      <td>Population ages 0-14, male (% of male population)</td>\n",
       "      <td>31.201223</td>\n",
       "      <td>31.146860</td>\n",
       "      <td>31.039137</td>\n",
       "      <td>30.891316</td>\n",
       "      <td>30.724928</td>\n",
       "      <td>30.552819</td>\n",
       "      <td>30.427408</td>\n",
       "      <td>30.294242</td>\n",
       "      <td>30.161088</td>\n",
       "      <td>...</td>\n",
       "      <td>26.819282</td>\n",
       "      <td>26.664658</td>\n",
       "      <td>26.510432</td>\n",
       "      <td>26.341205</td>\n",
       "      <td>26.197034</td>\n",
       "      <td>26.031932</td>\n",
       "      <td>25.853876</td>\n",
       "      <td>25.676761</td>\n",
       "      <td>25.505641</td>\n",
       "      <td>NaN</td>\n",
       "    </tr>\n",
       "    <tr>\n",
       "      <th>29</th>\n",
       "      <td>Population ages 05-09, female (% of female pop...</td>\n",
       "      <td>10.302043</td>\n",
       "      <td>10.228417</td>\n",
       "      <td>10.157688</td>\n",
       "      <td>10.088920</td>\n",
       "      <td>10.016677</td>\n",
       "      <td>9.933728</td>\n",
       "      <td>9.867750</td>\n",
       "      <td>9.797481</td>\n",
       "      <td>9.721786</td>\n",
       "      <td>...</td>\n",
       "      <td>8.188186</td>\n",
       "      <td>8.123365</td>\n",
       "      <td>8.058508</td>\n",
       "      <td>8.002439</td>\n",
       "      <td>7.960867</td>\n",
       "      <td>7.931291</td>\n",
       "      <td>7.911502</td>\n",
       "      <td>7.893406</td>\n",
       "      <td>7.865888</td>\n",
       "      <td>NaN</td>\n",
       "    </tr>\n",
       "    <tr>\n",
       "      <th>30</th>\n",
       "      <td>Population ages 05-09, male (% of male populat...</td>\n",
       "      <td>10.423416</td>\n",
       "      <td>10.386424</td>\n",
       "      <td>10.345418</td>\n",
       "      <td>10.299651</td>\n",
       "      <td>10.245931</td>\n",
       "      <td>10.180444</td>\n",
       "      <td>10.133466</td>\n",
       "      <td>10.079243</td>\n",
       "      <td>10.017363</td>\n",
       "      <td>...</td>\n",
       "      <td>8.946559</td>\n",
       "      <td>8.872133</td>\n",
       "      <td>8.798111</td>\n",
       "      <td>8.733565</td>\n",
       "      <td>8.684008</td>\n",
       "      <td>8.648166</td>\n",
       "      <td>8.623401</td>\n",
       "      <td>8.600697</td>\n",
       "      <td>8.567810</td>\n",
       "      <td>NaN</td>\n",
       "    </tr>\n",
       "    <tr>\n",
       "      <th>31</th>\n",
       "      <td>Population ages 10-14, female (% of female pop...</td>\n",
       "      <td>9.713792</td>\n",
       "      <td>9.713787</td>\n",
       "      <td>9.682184</td>\n",
       "      <td>9.627119</td>\n",
       "      <td>9.562756</td>\n",
       "      <td>9.498727</td>\n",
       "      <td>9.444248</td>\n",
       "      <td>9.390426</td>\n",
       "      <td>9.335672</td>\n",
       "      <td>...</td>\n",
       "      <td>8.028225</td>\n",
       "      <td>7.979190</td>\n",
       "      <td>7.933473</td>\n",
       "      <td>7.881853</td>\n",
       "      <td>7.828615</td>\n",
       "      <td>7.773853</td>\n",
       "      <td>7.718937</td>\n",
       "      <td>7.669149</td>\n",
       "      <td>7.629797</td>\n",
       "      <td>NaN</td>\n",
       "    </tr>\n",
       "    <tr>\n",
       "      <th>32</th>\n",
       "      <td>Population ages 10-14, male (% of male populat...</td>\n",
       "      <td>9.739185</td>\n",
       "      <td>9.774285</td>\n",
       "      <td>9.781121</td>\n",
       "      <td>9.765763</td>\n",
       "      <td>9.738841</td>\n",
       "      <td>9.707093</td>\n",
       "      <td>9.681879</td>\n",
       "      <td>9.652637</td>\n",
       "      <td>9.618513</td>\n",
       "      <td>...</td>\n",
       "      <td>8.762697</td>\n",
       "      <td>8.706074</td>\n",
       "      <td>8.653076</td>\n",
       "      <td>8.594250</td>\n",
       "      <td>8.531469</td>\n",
       "      <td>8.468421</td>\n",
       "      <td>8.406040</td>\n",
       "      <td>8.349702</td>\n",
       "      <td>8.305179</td>\n",
       "      <td>NaN</td>\n",
       "    </tr>\n",
       "    <tr>\n",
       "      <th>33</th>\n",
       "      <td>Population ages 15-19, female (% of female pop...</td>\n",
       "      <td>8.609836</td>\n",
       "      <td>8.681747</td>\n",
       "      <td>8.772391</td>\n",
       "      <td>8.864888</td>\n",
       "      <td>8.936307</td>\n",
       "      <td>8.973830</td>\n",
       "      <td>8.986744</td>\n",
       "      <td>8.967956</td>\n",
       "      <td>8.925350</td>\n",
       "      <td>...</td>\n",
       "      <td>8.128988</td>\n",
       "      <td>7.995063</td>\n",
       "      <td>7.869560</td>\n",
       "      <td>7.768479</td>\n",
       "      <td>7.690216</td>\n",
       "      <td>7.635883</td>\n",
       "      <td>7.597223</td>\n",
       "      <td>7.559991</td>\n",
       "      <td>7.515949</td>\n",
       "      <td>NaN</td>\n",
       "    </tr>\n",
       "    <tr>\n",
       "      <th>34</th>\n",
       "      <td>Population ages 15-19, male (% of male populat...</td>\n",
       "      <td>8.638510</td>\n",
       "      <td>8.719398</td>\n",
       "      <td>8.823050</td>\n",
       "      <td>8.933121</td>\n",
       "      <td>9.026764</td>\n",
       "      <td>9.090546</td>\n",
       "      <td>9.132835</td>\n",
       "      <td>9.147298</td>\n",
       "      <td>9.139620</td>\n",
       "      <td>...</td>\n",
       "      <td>8.829725</td>\n",
       "      <td>8.686711</td>\n",
       "      <td>8.553077</td>\n",
       "      <td>8.446593</td>\n",
       "      <td>8.357986</td>\n",
       "      <td>8.295549</td>\n",
       "      <td>8.251211</td>\n",
       "      <td>8.209898</td>\n",
       "      <td>8.162493</td>\n",
       "      <td>NaN</td>\n",
       "    </tr>\n",
       "    <tr>\n",
       "      <th>35</th>\n",
       "      <td>Population ages 15-64, female (% of female pop...</td>\n",
       "      <td>63.328215</td>\n",
       "      <td>63.317387</td>\n",
       "      <td>63.353549</td>\n",
       "      <td>63.419491</td>\n",
       "      <td>63.490016</td>\n",
       "      <td>63.550850</td>\n",
       "      <td>63.567953</td>\n",
       "      <td>63.585271</td>\n",
       "      <td>63.594641</td>\n",
       "      <td>...</td>\n",
       "      <td>63.410137</td>\n",
       "      <td>63.426311</td>\n",
       "      <td>63.434242</td>\n",
       "      <td>63.447995</td>\n",
       "      <td>63.433362</td>\n",
       "      <td>63.435396</td>\n",
       "      <td>63.446678</td>\n",
       "      <td>63.455129</td>\n",
       "      <td>63.455286</td>\n",
       "      <td>NaN</td>\n",
       "    </tr>\n",
       "    <tr>\n",
       "      <th>36</th>\n",
       "      <td>Population ages 15-64, male (% of male populat...</td>\n",
       "      <td>63.506229</td>\n",
       "      <td>63.435885</td>\n",
       "      <td>63.431265</td>\n",
       "      <td>63.475758</td>\n",
       "      <td>63.543918</td>\n",
       "      <td>63.620203</td>\n",
       "      <td>63.608702</td>\n",
       "      <td>63.615249</td>\n",
       "      <td>63.633727</td>\n",
       "      <td>...</td>\n",
       "      <td>64.513078</td>\n",
       "      <td>64.568726</td>\n",
       "      <td>64.627375</td>\n",
       "      <td>64.704030</td>\n",
       "      <td>64.720143</td>\n",
       "      <td>64.764771</td>\n",
       "      <td>64.830016</td>\n",
       "      <td>64.903029</td>\n",
       "      <td>64.978031</td>\n",
       "      <td>NaN</td>\n",
       "    </tr>\n",
       "    <tr>\n",
       "      <th>37</th>\n",
       "      <td>Population ages 20-24, female (% of female pop...</td>\n",
       "      <td>7.865340</td>\n",
       "      <td>7.832917</td>\n",
       "      <td>7.829978</td>\n",
       "      <td>7.852942</td>\n",
       "      <td>7.896823</td>\n",
       "      <td>7.956718</td>\n",
       "      <td>8.033334</td>\n",
       "      <td>8.126051</td>\n",
       "      <td>8.219316</td>\n",
       "      <td>...</td>\n",
       "      <td>7.964322</td>\n",
       "      <td>7.971688</td>\n",
       "      <td>7.955693</td>\n",
       "      <td>7.909146</td>\n",
       "      <td>7.834542</td>\n",
       "      <td>7.730006</td>\n",
       "      <td>7.610245</td>\n",
       "      <td>7.498040</td>\n",
       "      <td>7.407545</td>\n",
       "      <td>NaN</td>\n",
       "    </tr>\n",
       "    <tr>\n",
       "      <th>38</th>\n",
       "      <td>Population ages 20-24, male (% of male populat...</td>\n",
       "      <td>7.964965</td>\n",
       "      <td>7.937076</td>\n",
       "      <td>7.933516</td>\n",
       "      <td>7.953871</td>\n",
       "      <td>7.997027</td>\n",
       "      <td>8.060494</td>\n",
       "      <td>8.144134</td>\n",
       "      <td>8.247598</td>\n",
       "      <td>8.355794</td>\n",
       "      <td>...</td>\n",
       "      <td>8.519993</td>\n",
       "      <td>8.549019</td>\n",
       "      <td>8.550573</td>\n",
       "      <td>8.515266</td>\n",
       "      <td>8.443765</td>\n",
       "      <td>8.336305</td>\n",
       "      <td>8.209721</td>\n",
       "      <td>8.090250</td>\n",
       "      <td>7.994586</td>\n",
       "      <td>NaN</td>\n",
       "    </tr>\n",
       "    <tr>\n",
       "      <th>39</th>\n",
       "      <td>Population ages 25-29, female (% of female pop...</td>\n",
       "      <td>7.723912</td>\n",
       "      <td>7.585096</td>\n",
       "      <td>7.465103</td>\n",
       "      <td>7.367773</td>\n",
       "      <td>7.296211</td>\n",
       "      <td>7.251801</td>\n",
       "      <td>7.232122</td>\n",
       "      <td>7.237830</td>\n",
       "      <td>7.265947</td>\n",
       "      <td>...</td>\n",
       "      <td>7.478747</td>\n",
       "      <td>7.493272</td>\n",
       "      <td>7.514807</td>\n",
       "      <td>7.532179</td>\n",
       "      <td>7.549216</td>\n",
       "      <td>7.570538</td>\n",
       "      <td>7.585080</td>\n",
       "      <td>7.577324</td>\n",
       "      <td>7.539063</td>\n",
       "      <td>NaN</td>\n",
       "    </tr>\n",
       "    <tr>\n",
       "      <th>40</th>\n",
       "      <td>Population ages 25-29, male (% of male populat...</td>\n",
       "      <td>7.777791</td>\n",
       "      <td>7.679050</td>\n",
       "      <td>7.586470</td>\n",
       "      <td>7.506047</td>\n",
       "      <td>7.444966</td>\n",
       "      <td>7.407363</td>\n",
       "      <td>7.390456</td>\n",
       "      <td>7.394525</td>\n",
       "      <td>7.419121</td>\n",
       "      <td>...</td>\n",
       "      <td>7.874934</td>\n",
       "      <td>7.896303</td>\n",
       "      <td>7.926857</td>\n",
       "      <td>7.957483</td>\n",
       "      <td>7.991484</td>\n",
       "      <td>8.033590</td>\n",
       "      <td>8.069441</td>\n",
       "      <td>8.078817</td>\n",
       "      <td>8.051151</td>\n",
       "      <td>NaN</td>\n",
       "    </tr>\n",
       "    <tr>\n",
       "      <th>41</th>\n",
       "      <td>Population ages 30-34, female (% of female pop...</td>\n",
       "      <td>7.741517</td>\n",
       "      <td>7.639743</td>\n",
       "      <td>7.508116</td>\n",
       "      <td>7.360164</td>\n",
       "      <td>7.215257</td>\n",
       "      <td>7.086245</td>\n",
       "      <td>6.970755</td>\n",
       "      <td>6.870177</td>\n",
       "      <td>6.787790</td>\n",
       "      <td>...</td>\n",
       "      <td>7.449782</td>\n",
       "      <td>7.325934</td>\n",
       "      <td>7.214048</td>\n",
       "      <td>7.143150</td>\n",
       "      <td>7.105308</td>\n",
       "      <td>7.101948</td>\n",
       "      <td>7.122988</td>\n",
       "      <td>7.150475</td>\n",
       "      <td>7.172690</td>\n",
       "      <td>NaN</td>\n",
       "    </tr>\n",
       "    <tr>\n",
       "      <th>42</th>\n",
       "      <td>Population ages 30-34, male (% of male populat...</td>\n",
       "      <td>7.578672</td>\n",
       "      <td>7.518486</td>\n",
       "      <td>7.444689</td>\n",
       "      <td>7.361854</td>\n",
       "      <td>7.276364</td>\n",
       "      <td>7.193338</td>\n",
       "      <td>7.111011</td>\n",
       "      <td>7.033171</td>\n",
       "      <td>6.964844</td>\n",
       "      <td>...</td>\n",
       "      <td>7.706105</td>\n",
       "      <td>7.599039</td>\n",
       "      <td>7.501993</td>\n",
       "      <td>7.444399</td>\n",
       "      <td>7.417466</td>\n",
       "      <td>7.422268</td>\n",
       "      <td>7.450635</td>\n",
       "      <td>7.487551</td>\n",
       "      <td>7.522940</td>\n",
       "      <td>NaN</td>\n",
       "    </tr>\n",
       "    <tr>\n",
       "      <th>43</th>\n",
       "      <td>Population ages 35-39, female (% of female pop...</td>\n",
       "      <td>7.085950</td>\n",
       "      <td>7.107907</td>\n",
       "      <td>7.129354</td>\n",
       "      <td>7.139123</td>\n",
       "      <td>7.121997</td>\n",
       "      <td>7.070705</td>\n",
       "      <td>6.988134</td>\n",
       "      <td>6.876688</td>\n",
       "      <td>6.748362</td>\n",
       "      <td>...</td>\n",
       "      <td>6.861586</td>\n",
       "      <td>7.009363</td>\n",
       "      <td>7.114671</td>\n",
       "      <td>7.156782</td>\n",
       "      <td>7.139766</td>\n",
       "      <td>7.062490</td>\n",
       "      <td>6.952632</td>\n",
       "      <td>6.853634</td>\n",
       "      <td>6.792068</td>\n",
       "      <td>NaN</td>\n",
       "    </tr>\n",
       "    <tr>\n",
       "      <th>44</th>\n",
       "      <td>Population ages 35-39, male (% of male populat...</td>\n",
       "      <td>6.974143</td>\n",
       "      <td>6.995057</td>\n",
       "      <td>7.008423</td>\n",
       "      <td>7.010821</td>\n",
       "      <td>6.998431</td>\n",
       "      <td>6.969732</td>\n",
       "      <td>6.919958</td>\n",
       "      <td>6.857344</td>\n",
       "      <td>6.785811</td>\n",
       "      <td>...</td>\n",
       "      <td>6.927221</td>\n",
       "      <td>7.105097</td>\n",
       "      <td>7.239338</td>\n",
       "      <td>7.307004</td>\n",
       "      <td>7.311819</td>\n",
       "      <td>7.254148</td>\n",
       "      <td>7.161869</td>\n",
       "      <td>7.078635</td>\n",
       "      <td>7.031098</td>\n",
       "      <td>NaN</td>\n",
       "    </tr>\n",
       "    <tr>\n",
       "      <th>45</th>\n",
       "      <td>Population ages 40-44, female (% of female pop...</td>\n",
       "      <td>6.292128</td>\n",
       "      <td>6.300625</td>\n",
       "      <td>6.328999</td>\n",
       "      <td>6.369780</td>\n",
       "      <td>6.411694</td>\n",
       "      <td>6.447236</td>\n",
       "      <td>6.475668</td>\n",
       "      <td>6.502411</td>\n",
       "      <td>6.517091</td>\n",
       "      <td>...</td>\n",
       "      <td>5.942423</td>\n",
       "      <td>6.013407</td>\n",
       "      <td>6.104657</td>\n",
       "      <td>6.214731</td>\n",
       "      <td>6.340268</td>\n",
       "      <td>6.489496</td>\n",
       "      <td>6.636712</td>\n",
       "      <td>6.744032</td>\n",
       "      <td>6.790383</td>\n",
       "      <td>NaN</td>\n",
       "    </tr>\n",
       "    <tr>\n",
       "      <th>46</th>\n",
       "      <td>Population ages 40-44, male (% of male populat...</td>\n",
       "      <td>6.166856</td>\n",
       "      <td>6.179290</td>\n",
       "      <td>6.218394</td>\n",
       "      <td>6.272741</td>\n",
       "      <td>6.326052</td>\n",
       "      <td>6.368234</td>\n",
       "      <td>6.390260</td>\n",
       "      <td>6.405377</td>\n",
       "      <td>6.410179</td>\n",
       "      <td>...</td>\n",
       "      <td>5.878755</td>\n",
       "      <td>5.955350</td>\n",
       "      <td>6.056778</td>\n",
       "      <td>6.183190</td>\n",
       "      <td>6.328862</td>\n",
       "      <td>6.503655</td>\n",
       "      <td>6.679238</td>\n",
       "      <td>6.814146</td>\n",
       "      <td>6.885328</td>\n",
       "      <td>NaN</td>\n",
       "    </tr>\n",
       "    <tr>\n",
       "      <th>47</th>\n",
       "      <td>Population ages 45-49, female (% of female pop...</td>\n",
       "      <td>5.769448</td>\n",
       "      <td>5.763231</td>\n",
       "      <td>5.738650</td>\n",
       "      <td>5.708163</td>\n",
       "      <td>5.689656</td>\n",
       "      <td>5.692876</td>\n",
       "      <td>5.708733</td>\n",
       "      <td>5.741382</td>\n",
       "      <td>5.783843</td>\n",
       "      <td>...</td>\n",
       "      <td>5.520909</td>\n",
       "      <td>5.498565</td>\n",
       "      <td>5.491413</td>\n",
       "      <td>5.509297</td>\n",
       "      <td>5.544020</td>\n",
       "      <td>5.597908</td>\n",
       "      <td>5.671182</td>\n",
       "      <td>5.763839</td>\n",
       "      <td>5.873745</td>\n",
       "      <td>NaN</td>\n",
       "    </tr>\n",
       "    <tr>\n",
       "      <th>48</th>\n",
       "      <td>Population ages 45-49, male (% of male populat...</td>\n",
       "      <td>5.706408</td>\n",
       "      <td>5.660713</td>\n",
       "      <td>5.614038</td>\n",
       "      <td>5.575203</td>\n",
       "      <td>5.556667</td>\n",
       "      <td>5.564432</td>\n",
       "      <td>5.579041</td>\n",
       "      <td>5.617118</td>\n",
       "      <td>5.668259</td>\n",
       "      <td>...</td>\n",
       "      <td>5.382967</td>\n",
       "      <td>5.366111</td>\n",
       "      <td>5.366182</td>\n",
       "      <td>5.391319</td>\n",
       "      <td>5.430155</td>\n",
       "      <td>5.488487</td>\n",
       "      <td>5.567882</td>\n",
       "      <td>5.671043</td>\n",
       "      <td>5.797363</td>\n",
       "      <td>NaN</td>\n",
       "    </tr>\n",
       "    <tr>\n",
       "      <th>49</th>\n",
       "      <td>Population ages 50-54, female (% of female pop...</td>\n",
       "      <td>4.925295</td>\n",
       "      <td>4.976670</td>\n",
       "      <td>5.037093</td>\n",
       "      <td>5.097243</td>\n",
       "      <td>5.143884</td>\n",
       "      <td>5.170595</td>\n",
       "      <td>5.172239</td>\n",
       "      <td>5.157283</td>\n",
       "      <td>5.136428</td>\n",
       "      <td>...</td>\n",
       "      <td>5.134670</td>\n",
       "      <td>5.162241</td>\n",
       "      <td>5.182903</td>\n",
       "      <td>5.191629</td>\n",
       "      <td>5.184837</td>\n",
       "      <td>5.169433</td>\n",
       "      <td>5.154637</td>\n",
       "      <td>5.154308</td>\n",
       "      <td>5.176831</td>\n",
       "      <td>NaN</td>\n",
       "    </tr>\n",
       "    <tr>\n",
       "      <th>50</th>\n",
       "      <td>Population ages 50-54, male (% of male populat...</td>\n",
       "      <td>5.110232</td>\n",
       "      <td>5.095279</td>\n",
       "      <td>5.082831</td>\n",
       "      <td>5.071592</td>\n",
       "      <td>5.059066</td>\n",
       "      <td>5.044611</td>\n",
       "      <td>5.007583</td>\n",
       "      <td>4.969729</td>\n",
       "      <td>4.938876</td>\n",
       "      <td>...</td>\n",
       "      <td>4.966844</td>\n",
       "      <td>4.979486</td>\n",
       "      <td>4.990533</td>\n",
       "      <td>4.995900</td>\n",
       "      <td>4.983538</td>\n",
       "      <td>4.969757</td>\n",
       "      <td>4.962145</td>\n",
       "      <td>4.971660</td>\n",
       "      <td>5.004588</td>\n",
       "      <td>NaN</td>\n",
       "    </tr>\n",
       "    <tr>\n",
       "      <th>51</th>\n",
       "      <td>Population ages 55-59, female (% of female pop...</td>\n",
       "      <td>4.102362</td>\n",
       "      <td>4.151911</td>\n",
       "      <td>4.198542</td>\n",
       "      <td>4.245450</td>\n",
       "      <td>4.296950</td>\n",
       "      <td>4.354665</td>\n",
       "      <td>4.405945</td>\n",
       "      <td>4.465005</td>\n",
       "      <td>4.523578</td>\n",
       "      <td>...</td>\n",
       "      <td>4.702916</td>\n",
       "      <td>4.703851</td>\n",
       "      <td>4.710115</td>\n",
       "      <td>4.725009</td>\n",
       "      <td>4.740015</td>\n",
       "      <td>4.766864</td>\n",
       "      <td>4.798505</td>\n",
       "      <td>4.824048</td>\n",
       "      <td>4.837922</td>\n",
       "      <td>NaN</td>\n",
       "    </tr>\n",
       "    <tr>\n",
       "      <th>52</th>\n",
       "      <td>Population ages 55-59, male (% of male populat...</td>\n",
       "      <td>4.298986</td>\n",
       "      <td>4.321021</td>\n",
       "      <td>4.339418</td>\n",
       "      <td>4.355375</td>\n",
       "      <td>4.370282</td>\n",
       "      <td>4.384896</td>\n",
       "      <td>4.374956</td>\n",
       "      <td>4.367034</td>\n",
       "      <td>4.360139</td>\n",
       "      <td>...</td>\n",
       "      <td>4.499552</td>\n",
       "      <td>4.488177</td>\n",
       "      <td>4.483966</td>\n",
       "      <td>4.490020</td>\n",
       "      <td>4.488230</td>\n",
       "      <td>4.499818</td>\n",
       "      <td>4.519059</td>\n",
       "      <td>4.537398</td>\n",
       "      <td>4.550711</td>\n",
       "      <td>NaN</td>\n",
       "    </tr>\n",
       "    <tr>\n",
       "      <th>53</th>\n",
       "      <td>Population ages 60-64, female (% of female pop...</td>\n",
       "      <td>3.212428</td>\n",
       "      <td>3.277540</td>\n",
       "      <td>3.345324</td>\n",
       "      <td>3.413965</td>\n",
       "      <td>3.481237</td>\n",
       "      <td>3.546179</td>\n",
       "      <td>3.594279</td>\n",
       "      <td>3.640489</td>\n",
       "      <td>3.686937</td>\n",
       "      <td>...</td>\n",
       "      <td>4.225793</td>\n",
       "      <td>4.252927</td>\n",
       "      <td>4.276376</td>\n",
       "      <td>4.297594</td>\n",
       "      <td>4.305174</td>\n",
       "      <td>4.310829</td>\n",
       "      <td>4.317473</td>\n",
       "      <td>4.329438</td>\n",
       "      <td>4.349091</td>\n",
       "      <td>NaN</td>\n",
       "    </tr>\n",
       "    <tr>\n",
       "      <th>54</th>\n",
       "      <td>Population ages 60-64, male (% of male populat...</td>\n",
       "      <td>3.289666</td>\n",
       "      <td>3.330515</td>\n",
       "      <td>3.380436</td>\n",
       "      <td>3.435133</td>\n",
       "      <td>3.488299</td>\n",
       "      <td>3.536558</td>\n",
       "      <td>3.558468</td>\n",
       "      <td>3.576054</td>\n",
       "      <td>3.591084</td>\n",
       "      <td>...</td>\n",
       "      <td>3.926982</td>\n",
       "      <td>3.943431</td>\n",
       "      <td>3.958077</td>\n",
       "      <td>3.972857</td>\n",
       "      <td>3.966839</td>\n",
       "      <td>3.961195</td>\n",
       "      <td>3.958815</td>\n",
       "      <td>3.963631</td>\n",
       "      <td>3.977773</td>\n",
       "      <td>NaN</td>\n",
       "    </tr>\n",
       "    <tr>\n",
       "      <th>55</th>\n",
       "      <td>Population ages 65 and above, female (% of fem...</td>\n",
       "      <td>5.775457</td>\n",
       "      <td>5.926235</td>\n",
       "      <td>6.083518</td>\n",
       "      <td>6.248286</td>\n",
       "      <td>6.420430</td>\n",
       "      <td>6.600070</td>\n",
       "      <td>6.774645</td>\n",
       "      <td>6.952413</td>\n",
       "      <td>7.132826</td>\n",
       "      <td>...</td>\n",
       "      <td>12.045681</td>\n",
       "      <td>12.159953</td>\n",
       "      <td>12.282652</td>\n",
       "      <td>12.414742</td>\n",
       "      <td>12.549830</td>\n",
       "      <td>12.689251</td>\n",
       "      <td>12.832658</td>\n",
       "      <td>12.978915</td>\n",
       "      <td>13.128978</td>\n",
       "      <td>NaN</td>\n",
       "    </tr>\n",
       "    <tr>\n",
       "      <th>56</th>\n",
       "      <td>Population ages 65 and above, male (% of male ...</td>\n",
       "      <td>5.292547</td>\n",
       "      <td>5.417255</td>\n",
       "      <td>5.529599</td>\n",
       "      <td>5.632925</td>\n",
       "      <td>5.731153</td>\n",
       "      <td>5.826978</td>\n",
       "      <td>5.963890</td>\n",
       "      <td>6.090509</td>\n",
       "      <td>6.205185</td>\n",
       "      <td>...</td>\n",
       "      <td>8.667640</td>\n",
       "      <td>8.766616</td>\n",
       "      <td>8.862193</td>\n",
       "      <td>8.954765</td>\n",
       "      <td>9.082823</td>\n",
       "      <td>9.203297</td>\n",
       "      <td>9.316108</td>\n",
       "      <td>9.420209</td>\n",
       "      <td>9.516328</td>\n",
       "      <td>NaN</td>\n",
       "    </tr>\n",
       "    <tr>\n",
       "      <th>57</th>\n",
       "      <td>Population ages 65-69, female (% of female pop...</td>\n",
       "      <td>2.359655</td>\n",
       "      <td>2.410372</td>\n",
       "      <td>2.471223</td>\n",
       "      <td>2.539581</td>\n",
       "      <td>2.611659</td>\n",
       "      <td>2.685042</td>\n",
       "      <td>2.741490</td>\n",
       "      <td>2.801410</td>\n",
       "      <td>2.863519</td>\n",
       "      <td>...</td>\n",
       "      <td>3.549346</td>\n",
       "      <td>3.613072</td>\n",
       "      <td>3.674890</td>\n",
       "      <td>3.730893</td>\n",
       "      <td>3.767275</td>\n",
       "      <td>3.800755</td>\n",
       "      <td>3.831285</td>\n",
       "      <td>3.859240</td>\n",
       "      <td>3.885049</td>\n",
       "      <td>NaN</td>\n",
       "    </tr>\n",
       "    <tr>\n",
       "      <th>58</th>\n",
       "      <td>Population ages 65-69, male (% of male populat...</td>\n",
       "      <td>2.391245</td>\n",
       "      <td>2.414942</td>\n",
       "      <td>2.439544</td>\n",
       "      <td>2.468129</td>\n",
       "      <td>2.504082</td>\n",
       "      <td>2.548900</td>\n",
       "      <td>2.589539</td>\n",
       "      <td>2.634163</td>\n",
       "      <td>2.679389</td>\n",
       "      <td>...</td>\n",
       "      <td>3.095582</td>\n",
       "      <td>3.156741</td>\n",
       "      <td>3.215590</td>\n",
       "      <td>3.268160</td>\n",
       "      <td>3.295351</td>\n",
       "      <td>3.318971</td>\n",
       "      <td>3.340518</td>\n",
       "      <td>3.361325</td>\n",
       "      <td>3.382222</td>\n",
       "      <td>NaN</td>\n",
       "    </tr>\n",
       "    <tr>\n",
       "      <th>59</th>\n",
       "      <td>Population ages 70-74, female (% of female pop...</td>\n",
       "      <td>1.671736</td>\n",
       "      <td>1.703991</td>\n",
       "      <td>1.734943</td>\n",
       "      <td>1.768572</td>\n",
       "      <td>1.810131</td>\n",
       "      <td>1.862238</td>\n",
       "      <td>1.905020</td>\n",
       "      <td>1.956153</td>\n",
       "      <td>2.013085</td>\n",
       "      <td>...</td>\n",
       "      <td>2.868002</td>\n",
       "      <td>2.899438</td>\n",
       "      <td>2.942308</td>\n",
       "      <td>2.995880</td>\n",
       "      <td>3.039861</td>\n",
       "      <td>3.095618</td>\n",
       "      <td>3.157688</td>\n",
       "      <td>3.219215</td>\n",
       "      <td>3.276274</td>\n",
       "      <td>NaN</td>\n",
       "    </tr>\n",
       "    <tr>\n",
       "      <th>60</th>\n",
       "      <td>Population ages 70-74, male (% of male populat...</td>\n",
       "      <td>1.578896</td>\n",
       "      <td>1.610645</td>\n",
       "      <td>1.637164</td>\n",
       "      <td>1.660322</td>\n",
       "      <td>1.682928</td>\n",
       "      <td>1.707525</td>\n",
       "      <td>1.733757</td>\n",
       "      <td>1.759229</td>\n",
       "      <td>1.784916</td>\n",
       "      <td>...</td>\n",
       "      <td>2.267797</td>\n",
       "      <td>2.292404</td>\n",
       "      <td>2.327731</td>\n",
       "      <td>2.374708</td>\n",
       "      <td>2.416994</td>\n",
       "      <td>2.468445</td>\n",
       "      <td>2.523993</td>\n",
       "      <td>2.577246</td>\n",
       "      <td>2.625390</td>\n",
       "      <td>NaN</td>\n",
       "    </tr>\n",
       "    <tr>\n",
       "      <th>61</th>\n",
       "      <td>Population ages 75-79, female (% of female pop...</td>\n",
       "      <td>0.999176</td>\n",
       "      <td>1.032970</td>\n",
       "      <td>1.071677</td>\n",
       "      <td>1.113946</td>\n",
       "      <td>1.156454</td>\n",
       "      <td>1.197503</td>\n",
       "      <td>1.220098</td>\n",
       "      <td>1.241792</td>\n",
       "      <td>1.267710</td>\n",
       "      <td>...</td>\n",
       "      <td>2.322865</td>\n",
       "      <td>2.313772</td>\n",
       "      <td>2.318222</td>\n",
       "      <td>2.337770</td>\n",
       "      <td>2.344542</td>\n",
       "      <td>2.364125</td>\n",
       "      <td>2.396153</td>\n",
       "      <td>2.440336</td>\n",
       "      <td>2.495724</td>\n",
       "      <td>NaN</td>\n",
       "    </tr>\n",
       "    <tr>\n",
       "      <th>62</th>\n",
       "      <td>Population ages 75-79, male (% of male populat...</td>\n",
       "      <td>0.841892</td>\n",
       "      <td>0.877410</td>\n",
       "      <td>0.913137</td>\n",
       "      <td>0.948316</td>\n",
       "      <td>0.980102</td>\n",
       "      <td>1.006610</td>\n",
       "      <td>1.028537</td>\n",
       "      <td>1.046807</td>\n",
       "      <td>1.065481</td>\n",
       "      <td>...</td>\n",
       "      <td>1.621504</td>\n",
       "      <td>1.613654</td>\n",
       "      <td>1.614410</td>\n",
       "      <td>1.626069</td>\n",
       "      <td>1.637586</td>\n",
       "      <td>1.653816</td>\n",
       "      <td>1.676777</td>\n",
       "      <td>1.708488</td>\n",
       "      <td>1.749446</td>\n",
       "      <td>NaN</td>\n",
       "    </tr>\n",
       "    <tr>\n",
       "      <th>63</th>\n",
       "      <td>Population ages 80 and above, female (% of fem...</td>\n",
       "      <td>0.744890</td>\n",
       "      <td>0.778903</td>\n",
       "      <td>0.805676</td>\n",
       "      <td>0.826188</td>\n",
       "      <td>0.842185</td>\n",
       "      <td>0.855287</td>\n",
       "      <td>0.908037</td>\n",
       "      <td>0.953059</td>\n",
       "      <td>0.988513</td>\n",
       "      <td>...</td>\n",
       "      <td>3.305468</td>\n",
       "      <td>3.333671</td>\n",
       "      <td>3.347232</td>\n",
       "      <td>3.350200</td>\n",
       "      <td>3.398152</td>\n",
       "      <td>3.428753</td>\n",
       "      <td>3.447532</td>\n",
       "      <td>3.460125</td>\n",
       "      <td>3.471931</td>\n",
       "      <td>NaN</td>\n",
       "    </tr>\n",
       "    <tr>\n",
       "      <th>64</th>\n",
       "      <td>Population ages 80 and above, male (% of male ...</td>\n",
       "      <td>0.480514</td>\n",
       "      <td>0.514258</td>\n",
       "      <td>0.539754</td>\n",
       "      <td>0.556159</td>\n",
       "      <td>0.564042</td>\n",
       "      <td>0.563943</td>\n",
       "      <td>0.612057</td>\n",
       "      <td>0.650311</td>\n",
       "      <td>0.675397</td>\n",
       "      <td>...</td>\n",
       "      <td>1.682757</td>\n",
       "      <td>1.703817</td>\n",
       "      <td>1.704462</td>\n",
       "      <td>1.685828</td>\n",
       "      <td>1.732891</td>\n",
       "      <td>1.762066</td>\n",
       "      <td>1.774819</td>\n",
       "      <td>1.773150</td>\n",
       "      <td>1.759270</td>\n",
       "      <td>NaN</td>\n",
       "    </tr>\n",
       "  </tbody>\n",
       "</table>\n",
       "<p>40 rows × 63 columns</p>\n",
       "</div>"
      ],
      "text/plain": [
       "                                       Indicator Name       1960       1961  \\\n",
       "25  Population ages 00-04, female (% of female pop...  10.880492  10.814175   \n",
       "26  Population ages 00-04, male (% of male populat...  11.038622  10.986151   \n",
       "27  Population ages 0-14, female (% of female popu...  30.896328  30.756378   \n",
       "28  Population ages 0-14, male (% of male population)  31.201223  31.146860   \n",
       "29  Population ages 05-09, female (% of female pop...  10.302043  10.228417   \n",
       "30  Population ages 05-09, male (% of male populat...  10.423416  10.386424   \n",
       "31  Population ages 10-14, female (% of female pop...   9.713792   9.713787   \n",
       "32  Population ages 10-14, male (% of male populat...   9.739185   9.774285   \n",
       "33  Population ages 15-19, female (% of female pop...   8.609836   8.681747   \n",
       "34  Population ages 15-19, male (% of male populat...   8.638510   8.719398   \n",
       "35  Population ages 15-64, female (% of female pop...  63.328215  63.317387   \n",
       "36  Population ages 15-64, male (% of male populat...  63.506229  63.435885   \n",
       "37  Population ages 20-24, female (% of female pop...   7.865340   7.832917   \n",
       "38  Population ages 20-24, male (% of male populat...   7.964965   7.937076   \n",
       "39  Population ages 25-29, female (% of female pop...   7.723912   7.585096   \n",
       "40  Population ages 25-29, male (% of male populat...   7.777791   7.679050   \n",
       "41  Population ages 30-34, female (% of female pop...   7.741517   7.639743   \n",
       "42  Population ages 30-34, male (% of male populat...   7.578672   7.518486   \n",
       "43  Population ages 35-39, female (% of female pop...   7.085950   7.107907   \n",
       "44  Population ages 35-39, male (% of male populat...   6.974143   6.995057   \n",
       "45  Population ages 40-44, female (% of female pop...   6.292128   6.300625   \n",
       "46  Population ages 40-44, male (% of male populat...   6.166856   6.179290   \n",
       "47  Population ages 45-49, female (% of female pop...   5.769448   5.763231   \n",
       "48  Population ages 45-49, male (% of male populat...   5.706408   5.660713   \n",
       "49  Population ages 50-54, female (% of female pop...   4.925295   4.976670   \n",
       "50  Population ages 50-54, male (% of male populat...   5.110232   5.095279   \n",
       "51  Population ages 55-59, female (% of female pop...   4.102362   4.151911   \n",
       "52  Population ages 55-59, male (% of male populat...   4.298986   4.321021   \n",
       "53  Population ages 60-64, female (% of female pop...   3.212428   3.277540   \n",
       "54  Population ages 60-64, male (% of male populat...   3.289666   3.330515   \n",
       "55  Population ages 65 and above, female (% of fem...   5.775457   5.926235   \n",
       "56  Population ages 65 and above, male (% of male ...   5.292547   5.417255   \n",
       "57  Population ages 65-69, female (% of female pop...   2.359655   2.410372   \n",
       "58  Population ages 65-69, male (% of male populat...   2.391245   2.414942   \n",
       "59  Population ages 70-74, female (% of female pop...   1.671736   1.703991   \n",
       "60  Population ages 70-74, male (% of male populat...   1.578896   1.610645   \n",
       "61  Population ages 75-79, female (% of female pop...   0.999176   1.032970   \n",
       "62  Population ages 75-79, male (% of male populat...   0.841892   0.877410   \n",
       "63  Population ages 80 and above, female (% of fem...   0.744890   0.778903   \n",
       "64  Population ages 80 and above, male (% of male ...   0.480514   0.514258   \n",
       "\n",
       "         1962       1963       1964       1965       1966       1967  \\\n",
       "25  10.723061  10.616184  10.510121  10.416625  10.345404  10.274409   \n",
       "26  10.912598  10.825903  10.740156  10.665282  10.612063  10.562362   \n",
       "27  30.562933  30.332223  30.089554  29.849081  29.657402  29.462316   \n",
       "28  31.039137  30.891316  30.724928  30.552819  30.427408  30.294242   \n",
       "29  10.157688  10.088920  10.016677   9.933728   9.867750   9.797481   \n",
       "30  10.345418  10.299651  10.245931  10.180444  10.133466  10.079243   \n",
       "31   9.682184   9.627119   9.562756   9.498727   9.444248   9.390426   \n",
       "32   9.781121   9.765763   9.738841   9.707093   9.681879   9.652637   \n",
       "33   8.772391   8.864888   8.936307   8.973830   8.986744   8.967956   \n",
       "34   8.823050   8.933121   9.026764   9.090546   9.132835   9.147298   \n",
       "35  63.353549  63.419491  63.490016  63.550850  63.567953  63.585271   \n",
       "36  63.431265  63.475758  63.543918  63.620203  63.608702  63.615249   \n",
       "37   7.829978   7.852942   7.896823   7.956718   8.033334   8.126051   \n",
       "38   7.933516   7.953871   7.997027   8.060494   8.144134   8.247598   \n",
       "39   7.465103   7.367773   7.296211   7.251801   7.232122   7.237830   \n",
       "40   7.586470   7.506047   7.444966   7.407363   7.390456   7.394525   \n",
       "41   7.508116   7.360164   7.215257   7.086245   6.970755   6.870177   \n",
       "42   7.444689   7.361854   7.276364   7.193338   7.111011   7.033171   \n",
       "43   7.129354   7.139123   7.121997   7.070705   6.988134   6.876688   \n",
       "44   7.008423   7.010821   6.998431   6.969732   6.919958   6.857344   \n",
       "45   6.328999   6.369780   6.411694   6.447236   6.475668   6.502411   \n",
       "46   6.218394   6.272741   6.326052   6.368234   6.390260   6.405377   \n",
       "47   5.738650   5.708163   5.689656   5.692876   5.708733   5.741382   \n",
       "48   5.614038   5.575203   5.556667   5.564432   5.579041   5.617118   \n",
       "49   5.037093   5.097243   5.143884   5.170595   5.172239   5.157283   \n",
       "50   5.082831   5.071592   5.059066   5.044611   5.007583   4.969729   \n",
       "51   4.198542   4.245450   4.296950   4.354665   4.405945   4.465005   \n",
       "52   4.339418   4.355375   4.370282   4.384896   4.374956   4.367034   \n",
       "53   3.345324   3.413965   3.481237   3.546179   3.594279   3.640489   \n",
       "54   3.380436   3.435133   3.488299   3.536558   3.558468   3.576054   \n",
       "55   6.083518   6.248286   6.420430   6.600070   6.774645   6.952413   \n",
       "56   5.529599   5.632925   5.731153   5.826978   5.963890   6.090509   \n",
       "57   2.471223   2.539581   2.611659   2.685042   2.741490   2.801410   \n",
       "58   2.439544   2.468129   2.504082   2.548900   2.589539   2.634163   \n",
       "59   1.734943   1.768572   1.810131   1.862238   1.905020   1.956153   \n",
       "60   1.637164   1.660322   1.682928   1.707525   1.733757   1.759229   \n",
       "61   1.071677   1.113946   1.156454   1.197503   1.220098   1.241792   \n",
       "62   0.913137   0.948316   0.980102   1.006610   1.028537   1.046807   \n",
       "63   0.805676   0.826188   0.842185   0.855287   0.908037   0.953059   \n",
       "64   0.539754   0.556159   0.564042   0.563943   0.612057   0.650311   \n",
       "\n",
       "         1968  ...       2012       2013       2014       2015       2016  \\\n",
       "25  10.215075  ...   8.327772   8.311181   8.291125   8.252970   8.227326   \n",
       "26  10.525212  ...   9.110026   9.086451   9.059245   9.013390   8.981557   \n",
       "27  29.272533  ...  24.544183  24.413736  24.283106  24.137262  24.016808   \n",
       "28  30.161088  ...  26.819282  26.664658  26.510432  26.341205  26.197034   \n",
       "29   9.721786  ...   8.188186   8.123365   8.058508   8.002439   7.960867   \n",
       "30  10.017363  ...   8.946559   8.872133   8.798111   8.733565   8.684008   \n",
       "31   9.335672  ...   8.028225   7.979190   7.933473   7.881853   7.828615   \n",
       "32   9.618513  ...   8.762697   8.706074   8.653076   8.594250   8.531469   \n",
       "33   8.925350  ...   8.128988   7.995063   7.869560   7.768479   7.690216   \n",
       "34   9.139620  ...   8.829725   8.686711   8.553077   8.446593   8.357986   \n",
       "35  63.594641  ...  63.410137  63.426311  63.434242  63.447995  63.433362   \n",
       "36  63.633727  ...  64.513078  64.568726  64.627375  64.704030  64.720143   \n",
       "37   8.219316  ...   7.964322   7.971688   7.955693   7.909146   7.834542   \n",
       "38   8.355794  ...   8.519993   8.549019   8.550573   8.515266   8.443765   \n",
       "39   7.265947  ...   7.478747   7.493272   7.514807   7.532179   7.549216   \n",
       "40   7.419121  ...   7.874934   7.896303   7.926857   7.957483   7.991484   \n",
       "41   6.787790  ...   7.449782   7.325934   7.214048   7.143150   7.105308   \n",
       "42   6.964844  ...   7.706105   7.599039   7.501993   7.444399   7.417466   \n",
       "43   6.748362  ...   6.861586   7.009363   7.114671   7.156782   7.139766   \n",
       "44   6.785811  ...   6.927221   7.105097   7.239338   7.307004   7.311819   \n",
       "45   6.517091  ...   5.942423   6.013407   6.104657   6.214731   6.340268   \n",
       "46   6.410179  ...   5.878755   5.955350   6.056778   6.183190   6.328862   \n",
       "47   5.783843  ...   5.520909   5.498565   5.491413   5.509297   5.544020   \n",
       "48   5.668259  ...   5.382967   5.366111   5.366182   5.391319   5.430155   \n",
       "49   5.136428  ...   5.134670   5.162241   5.182903   5.191629   5.184837   \n",
       "50   4.938876  ...   4.966844   4.979486   4.990533   4.995900   4.983538   \n",
       "51   4.523578  ...   4.702916   4.703851   4.710115   4.725009   4.740015   \n",
       "52   4.360139  ...   4.499552   4.488177   4.483966   4.490020   4.488230   \n",
       "53   3.686937  ...   4.225793   4.252927   4.276376   4.297594   4.305174   \n",
       "54   3.591084  ...   3.926982   3.943431   3.958077   3.972857   3.966839   \n",
       "55   7.132826  ...  12.045681  12.159953  12.282652  12.414742  12.549830   \n",
       "56   6.205185  ...   8.667640   8.766616   8.862193   8.954765   9.082823   \n",
       "57   2.863519  ...   3.549346   3.613072   3.674890   3.730893   3.767275   \n",
       "58   2.679389  ...   3.095582   3.156741   3.215590   3.268160   3.295351   \n",
       "59   2.013085  ...   2.868002   2.899438   2.942308   2.995880   3.039861   \n",
       "60   1.784916  ...   2.267797   2.292404   2.327731   2.374708   2.416994   \n",
       "61   1.267710  ...   2.322865   2.313772   2.318222   2.337770   2.344542   \n",
       "62   1.065481  ...   1.621504   1.613654   1.614410   1.626069   1.637586   \n",
       "63   0.988513  ...   3.305468   3.333671   3.347232   3.350200   3.398152   \n",
       "64   0.675397  ...   1.682757   1.703817   1.704462   1.685828   1.732891   \n",
       "\n",
       "         2017       2018       2019       2020  2021  \n",
       "25   8.170209   8.090226   8.003401   7.920051   NaN  \n",
       "26   8.915344   8.824435   8.726362   8.632652   NaN  \n",
       "27  23.875353  23.720665  23.565956  23.415736   NaN  \n",
       "28  26.031932  25.853876  25.676761  25.505641   NaN  \n",
       "29   7.931291   7.911502   7.893406   7.865888   NaN  \n",
       "30   8.648166   8.623401   8.600697   8.567810   NaN  \n",
       "31   7.773853   7.718937   7.669149   7.629797   NaN  \n",
       "32   8.468421   8.406040   8.349702   8.305179   NaN  \n",
       "33   7.635883   7.597223   7.559991   7.515949   NaN  \n",
       "34   8.295549   8.251211   8.209898   8.162493   NaN  \n",
       "35  63.435396  63.446678  63.455129  63.455286   NaN  \n",
       "36  64.764771  64.830016  64.903029  64.978031   NaN  \n",
       "37   7.730006   7.610245   7.498040   7.407545   NaN  \n",
       "38   8.336305   8.209721   8.090250   7.994586   NaN  \n",
       "39   7.570538   7.585080   7.577324   7.539063   NaN  \n",
       "40   8.033590   8.069441   8.078817   8.051151   NaN  \n",
       "41   7.101948   7.122988   7.150475   7.172690   NaN  \n",
       "42   7.422268   7.450635   7.487551   7.522940   NaN  \n",
       "43   7.062490   6.952632   6.853634   6.792068   NaN  \n",
       "44   7.254148   7.161869   7.078635   7.031098   NaN  \n",
       "45   6.489496   6.636712   6.744032   6.790383   NaN  \n",
       "46   6.503655   6.679238   6.814146   6.885328   NaN  \n",
       "47   5.597908   5.671182   5.763839   5.873745   NaN  \n",
       "48   5.488487   5.567882   5.671043   5.797363   NaN  \n",
       "49   5.169433   5.154637   5.154308   5.176831   NaN  \n",
       "50   4.969757   4.962145   4.971660   5.004588   NaN  \n",
       "51   4.766864   4.798505   4.824048   4.837922   NaN  \n",
       "52   4.499818   4.519059   4.537398   4.550711   NaN  \n",
       "53   4.310829   4.317473   4.329438   4.349091   NaN  \n",
       "54   3.961195   3.958815   3.963631   3.977773   NaN  \n",
       "55  12.689251  12.832658  12.978915  13.128978   NaN  \n",
       "56   9.203297   9.316108   9.420209   9.516328   NaN  \n",
       "57   3.800755   3.831285   3.859240   3.885049   NaN  \n",
       "58   3.318971   3.340518   3.361325   3.382222   NaN  \n",
       "59   3.095618   3.157688   3.219215   3.276274   NaN  \n",
       "60   2.468445   2.523993   2.577246   2.625390   NaN  \n",
       "61   2.364125   2.396153   2.440336   2.495724   NaN  \n",
       "62   1.653816   1.676777   1.708488   1.749446   NaN  \n",
       "63   3.428753   3.447532   3.460125   3.471931   NaN  \n",
       "64   1.762066   1.774819   1.773150   1.759270   NaN  \n",
       "\n",
       "[40 rows x 63 columns]"
      ]
     },
     "execution_count": 20,
     "metadata": {},
     "output_type": "execute_result"
    }
   ],
   "source": [
    "indicadores= data['Indicator Name']\n",
    "dict(indicadores ) #los datos para construir la piramida poblacional van de indice 25 a 64 inclusive\n",
    "\n",
    "poblacion = data.iloc[25:65]\n",
    "poblacion"
   ]
  },
  {
   "cell_type": "code",
   "execution_count": 35,
   "id": "8a96e278",
   "metadata": {},
   "outputs": [
    {
     "data": {
      "text/plain": [
       "[0, 2, 4, 6, 8, 10, 12, 14, 16, 18, 20, 22, 24, 26, 28, 30, 32, 34, 36, 38]"
      ]
     },
     "execution_count": 35,
     "metadata": {},
     "output_type": "execute_result"
    }
   ],
   "source": [
    "#indices poblacion femenina\n",
    "indf = [i for i in range(0,40,2)]\n",
    "\n",
    "#indices poblacion masculina\n",
    "indm = [i for i in range(1,40,2)]\n",
    "indf"
   ]
  },
  {
   "cell_type": "code",
   "execution_count": 198,
   "id": "fc826927",
   "metadata": {},
   "outputs": [],
   "source": [
    "poblacion_femenina = poblacion.iloc[indf]\n",
    "poblacion_femenina.index=poblacion_femenina['Indicator Name']\n",
    "poblacion_femenina=poblacion_femenina.drop(['Indicator Name'], axis=1) #elimino columna irrelevante\n",
    "poblacion_femenina=poblacion_femenina.drop(['Population ages 65 and above, female (% of female population)'], axis=0) #elimino fila irrelevante\n",
    "poblacion_femenina=poblacion_femenina.drop(['Population ages 0-14, female (% of female population)'], axis=0) #elimino fila irrelevante\n",
    "poblacion_femenina=poblacion_femenina.drop(['Population ages 15-64, female (% of female population)'], axis=0) #elimino fila irrelevante\n",
    "\n",
    "new_index_f=[]\n",
    "for index in poblacion_femenina.index:\n",
    "    a,b=index.split(',')\n",
    "    new_index_f.append(a)\n",
    "\n",
    "poblacion_femenina.index=new_index_f"
   ]
  },
  {
   "cell_type": "code",
   "execution_count": 199,
   "id": "31817866",
   "metadata": {},
   "outputs": [],
   "source": [
    "poblacion_masculina = poblacion.iloc[indm]\n",
    "poblacion_masculina.index=poblacion_masculina['Indicator Name']\n",
    "poblacion_masculina=poblacion_masculina.drop(['Indicator Name'], axis=1) #elimino columna irrelevante\n",
    "poblacion_masculina=poblacion_masculina.drop(['Population ages 65 and above, male (% of male population)'], axis=0) #elimino fila irrelevante\n",
    "poblacion_masculina=poblacion_masculina.drop(['Population ages 0-14, male (% of male population)'], axis=0) #elimino fila irrelevante\n",
    "poblacion_masculina=poblacion_masculina.drop(['Population ages 15-64, male (% of male population)'], axis=0) #elimino fila irrelevante\n",
    "\n",
    "poblacion_masculina.index=new_index_f\n",
    "\n"
   ]
  },
  {
   "cell_type": "code",
   "execution_count": 231,
   "id": "6fe28dac",
   "metadata": {},
   "outputs": [
    {
     "name": "stdout",
     "output_type": "stream",
     "text": [
      "ingrese el año que desea analizar (1960-2020):1960\n"
     ]
    },
    {
     "data": {
      "application/vnd.plotly.v1+json": {
       "config": {
        "plotlyServerURL": "https://plot.ly"
       },
       "data": [
        {
         "name": "Male",
         "orientation": "h",
         "type": "bar",
         "x": [
          11.038621750538,
          10.4234161628602,
          9.73918543167769,
          8.63850977706166,
          7.96496531125974,
          7.7777911140993,
          7.57867230509132,
          6.97414330320593,
          6.1668559671467,
          5.7064076357238,
          5.11023211846112,
          4.29898583082519,
          3.28966612970764,
          2.39124547067869,
          1.57889570998715,
          0.841891863899569,
          0.480514117776196
         ],
         "y": [
          "Population ages 00-04",
          "Population ages 05-09",
          "Population ages 10-14",
          "Population ages 15-19",
          "Population ages 20-24",
          "Population ages 25-29",
          "Population ages 30-34",
          "Population ages 35-39",
          "Population ages 40-44",
          "Population ages 45-49",
          "Population ages 50-54",
          "Population ages 55-59",
          "Population ages 60-64",
          "Population ages 65-69",
          "Population ages 70-74",
          "Population ages 75-79",
          "Population ages 80 and above"
         ]
        },
        {
         "name": "Female",
         "orientation": "h",
         "type": "bar",
         "x": [
          -11.038621750538,
          -10.4234161628602,
          -9.73918543167769,
          -8.63850977706166,
          -7.96496531125974,
          -7.7777911140993,
          -7.57867230509132,
          -6.97414330320593,
          -6.1668559671467,
          -5.7064076357238,
          -5.11023211846112,
          -4.29898583082519,
          -3.28966612970764,
          -2.39124547067869,
          -1.57889570998715,
          -0.841891863899569,
          -0.480514117776196
         ],
         "y": [
          "Population ages 00-04",
          "Population ages 05-09",
          "Population ages 10-14",
          "Population ages 15-19",
          "Population ages 20-24",
          "Population ages 25-29",
          "Population ages 30-34",
          "Population ages 35-39",
          "Population ages 40-44",
          "Population ages 45-49",
          "Population ages 50-54",
          "Population ages 55-59",
          "Population ages 60-64",
          "Population ages 65-69",
          "Population ages 70-74",
          "Population ages 75-79",
          "Population ages 80 and above"
         ]
        }
       ],
       "layout": {
        "bargap": 0,
        "bargroupgap": 0,
        "barmode": "relative",
        "template": {
         "data": {
          "bar": [
           {
            "error_x": {
             "color": "#2a3f5f"
            },
            "error_y": {
             "color": "#2a3f5f"
            },
            "marker": {
             "line": {
              "color": "#E5ECF6",
              "width": 0.5
             },
             "pattern": {
              "fillmode": "overlay",
              "size": 10,
              "solidity": 0.2
             }
            },
            "type": "bar"
           }
          ],
          "barpolar": [
           {
            "marker": {
             "line": {
              "color": "#E5ECF6",
              "width": 0.5
             },
             "pattern": {
              "fillmode": "overlay",
              "size": 10,
              "solidity": 0.2
             }
            },
            "type": "barpolar"
           }
          ],
          "carpet": [
           {
            "aaxis": {
             "endlinecolor": "#2a3f5f",
             "gridcolor": "white",
             "linecolor": "white",
             "minorgridcolor": "white",
             "startlinecolor": "#2a3f5f"
            },
            "baxis": {
             "endlinecolor": "#2a3f5f",
             "gridcolor": "white",
             "linecolor": "white",
             "minorgridcolor": "white",
             "startlinecolor": "#2a3f5f"
            },
            "type": "carpet"
           }
          ],
          "choropleth": [
           {
            "colorbar": {
             "outlinewidth": 0,
             "ticks": ""
            },
            "type": "choropleth"
           }
          ],
          "contour": [
           {
            "colorbar": {
             "outlinewidth": 0,
             "ticks": ""
            },
            "colorscale": [
             [
              0,
              "#0d0887"
             ],
             [
              0.1111111111111111,
              "#46039f"
             ],
             [
              0.2222222222222222,
              "#7201a8"
             ],
             [
              0.3333333333333333,
              "#9c179e"
             ],
             [
              0.4444444444444444,
              "#bd3786"
             ],
             [
              0.5555555555555556,
              "#d8576b"
             ],
             [
              0.6666666666666666,
              "#ed7953"
             ],
             [
              0.7777777777777778,
              "#fb9f3a"
             ],
             [
              0.8888888888888888,
              "#fdca26"
             ],
             [
              1,
              "#f0f921"
             ]
            ],
            "type": "contour"
           }
          ],
          "contourcarpet": [
           {
            "colorbar": {
             "outlinewidth": 0,
             "ticks": ""
            },
            "type": "contourcarpet"
           }
          ],
          "heatmap": [
           {
            "colorbar": {
             "outlinewidth": 0,
             "ticks": ""
            },
            "colorscale": [
             [
              0,
              "#0d0887"
             ],
             [
              0.1111111111111111,
              "#46039f"
             ],
             [
              0.2222222222222222,
              "#7201a8"
             ],
             [
              0.3333333333333333,
              "#9c179e"
             ],
             [
              0.4444444444444444,
              "#bd3786"
             ],
             [
              0.5555555555555556,
              "#d8576b"
             ],
             [
              0.6666666666666666,
              "#ed7953"
             ],
             [
              0.7777777777777778,
              "#fb9f3a"
             ],
             [
              0.8888888888888888,
              "#fdca26"
             ],
             [
              1,
              "#f0f921"
             ]
            ],
            "type": "heatmap"
           }
          ],
          "heatmapgl": [
           {
            "colorbar": {
             "outlinewidth": 0,
             "ticks": ""
            },
            "colorscale": [
             [
              0,
              "#0d0887"
             ],
             [
              0.1111111111111111,
              "#46039f"
             ],
             [
              0.2222222222222222,
              "#7201a8"
             ],
             [
              0.3333333333333333,
              "#9c179e"
             ],
             [
              0.4444444444444444,
              "#bd3786"
             ],
             [
              0.5555555555555556,
              "#d8576b"
             ],
             [
              0.6666666666666666,
              "#ed7953"
             ],
             [
              0.7777777777777778,
              "#fb9f3a"
             ],
             [
              0.8888888888888888,
              "#fdca26"
             ],
             [
              1,
              "#f0f921"
             ]
            ],
            "type": "heatmapgl"
           }
          ],
          "histogram": [
           {
            "marker": {
             "pattern": {
              "fillmode": "overlay",
              "size": 10,
              "solidity": 0.2
             }
            },
            "type": "histogram"
           }
          ],
          "histogram2d": [
           {
            "colorbar": {
             "outlinewidth": 0,
             "ticks": ""
            },
            "colorscale": [
             [
              0,
              "#0d0887"
             ],
             [
              0.1111111111111111,
              "#46039f"
             ],
             [
              0.2222222222222222,
              "#7201a8"
             ],
             [
              0.3333333333333333,
              "#9c179e"
             ],
             [
              0.4444444444444444,
              "#bd3786"
             ],
             [
              0.5555555555555556,
              "#d8576b"
             ],
             [
              0.6666666666666666,
              "#ed7953"
             ],
             [
              0.7777777777777778,
              "#fb9f3a"
             ],
             [
              0.8888888888888888,
              "#fdca26"
             ],
             [
              1,
              "#f0f921"
             ]
            ],
            "type": "histogram2d"
           }
          ],
          "histogram2dcontour": [
           {
            "colorbar": {
             "outlinewidth": 0,
             "ticks": ""
            },
            "colorscale": [
             [
              0,
              "#0d0887"
             ],
             [
              0.1111111111111111,
              "#46039f"
             ],
             [
              0.2222222222222222,
              "#7201a8"
             ],
             [
              0.3333333333333333,
              "#9c179e"
             ],
             [
              0.4444444444444444,
              "#bd3786"
             ],
             [
              0.5555555555555556,
              "#d8576b"
             ],
             [
              0.6666666666666666,
              "#ed7953"
             ],
             [
              0.7777777777777778,
              "#fb9f3a"
             ],
             [
              0.8888888888888888,
              "#fdca26"
             ],
             [
              1,
              "#f0f921"
             ]
            ],
            "type": "histogram2dcontour"
           }
          ],
          "mesh3d": [
           {
            "colorbar": {
             "outlinewidth": 0,
             "ticks": ""
            },
            "type": "mesh3d"
           }
          ],
          "parcoords": [
           {
            "line": {
             "colorbar": {
              "outlinewidth": 0,
              "ticks": ""
             }
            },
            "type": "parcoords"
           }
          ],
          "pie": [
           {
            "automargin": true,
            "type": "pie"
           }
          ],
          "scatter": [
           {
            "fillpattern": {
             "fillmode": "overlay",
             "size": 10,
             "solidity": 0.2
            },
            "type": "scatter"
           }
          ],
          "scatter3d": [
           {
            "line": {
             "colorbar": {
              "outlinewidth": 0,
              "ticks": ""
             }
            },
            "marker": {
             "colorbar": {
              "outlinewidth": 0,
              "ticks": ""
             }
            },
            "type": "scatter3d"
           }
          ],
          "scattercarpet": [
           {
            "marker": {
             "colorbar": {
              "outlinewidth": 0,
              "ticks": ""
             }
            },
            "type": "scattercarpet"
           }
          ],
          "scattergeo": [
           {
            "marker": {
             "colorbar": {
              "outlinewidth": 0,
              "ticks": ""
             }
            },
            "type": "scattergeo"
           }
          ],
          "scattergl": [
           {
            "marker": {
             "colorbar": {
              "outlinewidth": 0,
              "ticks": ""
             }
            },
            "type": "scattergl"
           }
          ],
          "scattermapbox": [
           {
            "marker": {
             "colorbar": {
              "outlinewidth": 0,
              "ticks": ""
             }
            },
            "type": "scattermapbox"
           }
          ],
          "scatterpolar": [
           {
            "marker": {
             "colorbar": {
              "outlinewidth": 0,
              "ticks": ""
             }
            },
            "type": "scatterpolar"
           }
          ],
          "scatterpolargl": [
           {
            "marker": {
             "colorbar": {
              "outlinewidth": 0,
              "ticks": ""
             }
            },
            "type": "scatterpolargl"
           }
          ],
          "scatterternary": [
           {
            "marker": {
             "colorbar": {
              "outlinewidth": 0,
              "ticks": ""
             }
            },
            "type": "scatterternary"
           }
          ],
          "surface": [
           {
            "colorbar": {
             "outlinewidth": 0,
             "ticks": ""
            },
            "colorscale": [
             [
              0,
              "#0d0887"
             ],
             [
              0.1111111111111111,
              "#46039f"
             ],
             [
              0.2222222222222222,
              "#7201a8"
             ],
             [
              0.3333333333333333,
              "#9c179e"
             ],
             [
              0.4444444444444444,
              "#bd3786"
             ],
             [
              0.5555555555555556,
              "#d8576b"
             ],
             [
              0.6666666666666666,
              "#ed7953"
             ],
             [
              0.7777777777777778,
              "#fb9f3a"
             ],
             [
              0.8888888888888888,
              "#fdca26"
             ],
             [
              1,
              "#f0f921"
             ]
            ],
            "type": "surface"
           }
          ],
          "table": [
           {
            "cells": {
             "fill": {
              "color": "#EBF0F8"
             },
             "line": {
              "color": "white"
             }
            },
            "header": {
             "fill": {
              "color": "#C8D4E3"
             },
             "line": {
              "color": "white"
             }
            },
            "type": "table"
           }
          ]
         },
         "layout": {
          "annotationdefaults": {
           "arrowcolor": "#2a3f5f",
           "arrowhead": 0,
           "arrowwidth": 1
          },
          "autotypenumbers": "strict",
          "coloraxis": {
           "colorbar": {
            "outlinewidth": 0,
            "ticks": ""
           }
          },
          "colorscale": {
           "diverging": [
            [
             0,
             "#8e0152"
            ],
            [
             0.1,
             "#c51b7d"
            ],
            [
             0.2,
             "#de77ae"
            ],
            [
             0.3,
             "#f1b6da"
            ],
            [
             0.4,
             "#fde0ef"
            ],
            [
             0.5,
             "#f7f7f7"
            ],
            [
             0.6,
             "#e6f5d0"
            ],
            [
             0.7,
             "#b8e186"
            ],
            [
             0.8,
             "#7fbc41"
            ],
            [
             0.9,
             "#4d9221"
            ],
            [
             1,
             "#276419"
            ]
           ],
           "sequential": [
            [
             0,
             "#0d0887"
            ],
            [
             0.1111111111111111,
             "#46039f"
            ],
            [
             0.2222222222222222,
             "#7201a8"
            ],
            [
             0.3333333333333333,
             "#9c179e"
            ],
            [
             0.4444444444444444,
             "#bd3786"
            ],
            [
             0.5555555555555556,
             "#d8576b"
            ],
            [
             0.6666666666666666,
             "#ed7953"
            ],
            [
             0.7777777777777778,
             "#fb9f3a"
            ],
            [
             0.8888888888888888,
             "#fdca26"
            ],
            [
             1,
             "#f0f921"
            ]
           ],
           "sequentialminus": [
            [
             0,
             "#0d0887"
            ],
            [
             0.1111111111111111,
             "#46039f"
            ],
            [
             0.2222222222222222,
             "#7201a8"
            ],
            [
             0.3333333333333333,
             "#9c179e"
            ],
            [
             0.4444444444444444,
             "#bd3786"
            ],
            [
             0.5555555555555556,
             "#d8576b"
            ],
            [
             0.6666666666666666,
             "#ed7953"
            ],
            [
             0.7777777777777778,
             "#fb9f3a"
            ],
            [
             0.8888888888888888,
             "#fdca26"
            ],
            [
             1,
             "#f0f921"
            ]
           ]
          },
          "colorway": [
           "#636efa",
           "#EF553B",
           "#00cc96",
           "#ab63fa",
           "#FFA15A",
           "#19d3f3",
           "#FF6692",
           "#B6E880",
           "#FF97FF",
           "#FECB52"
          ],
          "font": {
           "color": "#2a3f5f"
          },
          "geo": {
           "bgcolor": "white",
           "lakecolor": "white",
           "landcolor": "#E5ECF6",
           "showlakes": true,
           "showland": true,
           "subunitcolor": "white"
          },
          "hoverlabel": {
           "align": "left"
          },
          "hovermode": "closest",
          "mapbox": {
           "style": "light"
          },
          "paper_bgcolor": "white",
          "plot_bgcolor": "#E5ECF6",
          "polar": {
           "angularaxis": {
            "gridcolor": "white",
            "linecolor": "white",
            "ticks": ""
           },
           "bgcolor": "#E5ECF6",
           "radialaxis": {
            "gridcolor": "white",
            "linecolor": "white",
            "ticks": ""
           }
          },
          "scene": {
           "xaxis": {
            "backgroundcolor": "#E5ECF6",
            "gridcolor": "white",
            "gridwidth": 2,
            "linecolor": "white",
            "showbackground": true,
            "ticks": "",
            "zerolinecolor": "white"
           },
           "yaxis": {
            "backgroundcolor": "#E5ECF6",
            "gridcolor": "white",
            "gridwidth": 2,
            "linecolor": "white",
            "showbackground": true,
            "ticks": "",
            "zerolinecolor": "white"
           },
           "zaxis": {
            "backgroundcolor": "#E5ECF6",
            "gridcolor": "white",
            "gridwidth": 2,
            "linecolor": "white",
            "showbackground": true,
            "ticks": "",
            "zerolinecolor": "white"
           }
          },
          "shapedefaults": {
           "line": {
            "color": "#2a3f5f"
           }
          },
          "ternary": {
           "aaxis": {
            "gridcolor": "white",
            "linecolor": "white",
            "ticks": ""
           },
           "baxis": {
            "gridcolor": "white",
            "linecolor": "white",
            "ticks": ""
           },
           "bgcolor": "#E5ECF6",
           "caxis": {
            "gridcolor": "white",
            "linecolor": "white",
            "ticks": ""
           }
          },
          "title": {
           "x": 0.05
          },
          "xaxis": {
           "automargin": true,
           "gridcolor": "white",
           "linecolor": "white",
           "ticks": "",
           "title": {
            "standoff": 15
           },
           "zerolinecolor": "white",
           "zerolinewidth": 2
          },
          "yaxis": {
           "automargin": true,
           "gridcolor": "white",
           "linecolor": "white",
           "ticks": "",
           "title": {
            "standoff": 15
           },
           "zerolinecolor": "white",
           "zerolinewidth": 2
          }
         }
        },
        "title": {
         "font": {
          "size": 22
         },
         "text": "Population Pyramid of Argentina by year 1960"
        },
        "xaxis": {
         "ticktext": [
          "100 %",
          "75 %",
          "50 %",
          "25 %",
          "0 %",
          "25 %",
          "50 %",
          "75 %",
          "100%"
         ],
         "tickvals": [
          -10,
          -7.5,
          -5,
          -2.5,
          0,
          2.5,
          5,
          7.5,
          10
         ],
         "title": {
          "font": {
           "size": 14
          },
          "text": "Population in %"
         }
        }
       }
      },
      "text/html": [
       "<div>                            <div id=\"a55aedd3-79b8-45d9-b607-85d52a5d7879\" class=\"plotly-graph-div\" style=\"height:525px; width:100%;\"></div>            <script type=\"text/javascript\">                require([\"plotly\"], function(Plotly) {                    window.PLOTLYENV=window.PLOTLYENV || {};                                    if (document.getElementById(\"a55aedd3-79b8-45d9-b607-85d52a5d7879\")) {                    Plotly.newPlot(                        \"a55aedd3-79b8-45d9-b607-85d52a5d7879\",                        [{\"name\":\"Male\",\"orientation\":\"h\",\"x\":[11.038621750538,10.4234161628602,9.73918543167769,8.63850977706166,7.96496531125974,7.7777911140993,7.57867230509132,6.97414330320593,6.1668559671467,5.7064076357238,5.11023211846112,4.29898583082519,3.28966612970764,2.39124547067869,1.57889570998715,0.841891863899569,0.480514117776196],\"y\":[\"Population ages 00-04\",\"Population ages 05-09\",\"Population ages 10-14\",\"Population ages 15-19\",\"Population ages 20-24\",\"Population ages 25-29\",\"Population ages 30-34\",\"Population ages 35-39\",\"Population ages 40-44\",\"Population ages 45-49\",\"Population ages 50-54\",\"Population ages 55-59\",\"Population ages 60-64\",\"Population ages 65-69\",\"Population ages 70-74\",\"Population ages 75-79\",\"Population ages 80 and above\"],\"type\":\"bar\"},{\"name\":\"Female\",\"orientation\":\"h\",\"x\":[-11.038621750538,-10.4234161628602,-9.73918543167769,-8.63850977706166,-7.96496531125974,-7.7777911140993,-7.57867230509132,-6.97414330320593,-6.1668559671467,-5.7064076357238,-5.11023211846112,-4.29898583082519,-3.28966612970764,-2.39124547067869,-1.57889570998715,-0.841891863899569,-0.480514117776196],\"y\":[\"Population ages 00-04\",\"Population ages 05-09\",\"Population ages 10-14\",\"Population ages 15-19\",\"Population ages 20-24\",\"Population ages 25-29\",\"Population ages 30-34\",\"Population ages 35-39\",\"Population ages 40-44\",\"Population ages 45-49\",\"Population ages 50-54\",\"Population ages 55-59\",\"Population ages 60-64\",\"Population ages 65-69\",\"Population ages 70-74\",\"Population ages 75-79\",\"Population ages 80 and above\"],\"type\":\"bar\"}],                        {\"template\":{\"data\":{\"histogram2dcontour\":[{\"type\":\"histogram2dcontour\",\"colorbar\":{\"outlinewidth\":0,\"ticks\":\"\"},\"colorscale\":[[0.0,\"#0d0887\"],[0.1111111111111111,\"#46039f\"],[0.2222222222222222,\"#7201a8\"],[0.3333333333333333,\"#9c179e\"],[0.4444444444444444,\"#bd3786\"],[0.5555555555555556,\"#d8576b\"],[0.6666666666666666,\"#ed7953\"],[0.7777777777777778,\"#fb9f3a\"],[0.8888888888888888,\"#fdca26\"],[1.0,\"#f0f921\"]]}],\"choropleth\":[{\"type\":\"choropleth\",\"colorbar\":{\"outlinewidth\":0,\"ticks\":\"\"}}],\"histogram2d\":[{\"type\":\"histogram2d\",\"colorbar\":{\"outlinewidth\":0,\"ticks\":\"\"},\"colorscale\":[[0.0,\"#0d0887\"],[0.1111111111111111,\"#46039f\"],[0.2222222222222222,\"#7201a8\"],[0.3333333333333333,\"#9c179e\"],[0.4444444444444444,\"#bd3786\"],[0.5555555555555556,\"#d8576b\"],[0.6666666666666666,\"#ed7953\"],[0.7777777777777778,\"#fb9f3a\"],[0.8888888888888888,\"#fdca26\"],[1.0,\"#f0f921\"]]}],\"heatmap\":[{\"type\":\"heatmap\",\"colorbar\":{\"outlinewidth\":0,\"ticks\":\"\"},\"colorscale\":[[0.0,\"#0d0887\"],[0.1111111111111111,\"#46039f\"],[0.2222222222222222,\"#7201a8\"],[0.3333333333333333,\"#9c179e\"],[0.4444444444444444,\"#bd3786\"],[0.5555555555555556,\"#d8576b\"],[0.6666666666666666,\"#ed7953\"],[0.7777777777777778,\"#fb9f3a\"],[0.8888888888888888,\"#fdca26\"],[1.0,\"#f0f921\"]]}],\"heatmapgl\":[{\"type\":\"heatmapgl\",\"colorbar\":{\"outlinewidth\":0,\"ticks\":\"\"},\"colorscale\":[[0.0,\"#0d0887\"],[0.1111111111111111,\"#46039f\"],[0.2222222222222222,\"#7201a8\"],[0.3333333333333333,\"#9c179e\"],[0.4444444444444444,\"#bd3786\"],[0.5555555555555556,\"#d8576b\"],[0.6666666666666666,\"#ed7953\"],[0.7777777777777778,\"#fb9f3a\"],[0.8888888888888888,\"#fdca26\"],[1.0,\"#f0f921\"]]}],\"contourcarpet\":[{\"type\":\"contourcarpet\",\"colorbar\":{\"outlinewidth\":0,\"ticks\":\"\"}}],\"contour\":[{\"type\":\"contour\",\"colorbar\":{\"outlinewidth\":0,\"ticks\":\"\"},\"colorscale\":[[0.0,\"#0d0887\"],[0.1111111111111111,\"#46039f\"],[0.2222222222222222,\"#7201a8\"],[0.3333333333333333,\"#9c179e\"],[0.4444444444444444,\"#bd3786\"],[0.5555555555555556,\"#d8576b\"],[0.6666666666666666,\"#ed7953\"],[0.7777777777777778,\"#fb9f3a\"],[0.8888888888888888,\"#fdca26\"],[1.0,\"#f0f921\"]]}],\"surface\":[{\"type\":\"surface\",\"colorbar\":{\"outlinewidth\":0,\"ticks\":\"\"},\"colorscale\":[[0.0,\"#0d0887\"],[0.1111111111111111,\"#46039f\"],[0.2222222222222222,\"#7201a8\"],[0.3333333333333333,\"#9c179e\"],[0.4444444444444444,\"#bd3786\"],[0.5555555555555556,\"#d8576b\"],[0.6666666666666666,\"#ed7953\"],[0.7777777777777778,\"#fb9f3a\"],[0.8888888888888888,\"#fdca26\"],[1.0,\"#f0f921\"]]}],\"mesh3d\":[{\"type\":\"mesh3d\",\"colorbar\":{\"outlinewidth\":0,\"ticks\":\"\"}}],\"scatter\":[{\"fillpattern\":{\"fillmode\":\"overlay\",\"size\":10,\"solidity\":0.2},\"type\":\"scatter\"}],\"parcoords\":[{\"type\":\"parcoords\",\"line\":{\"colorbar\":{\"outlinewidth\":0,\"ticks\":\"\"}}}],\"scatterpolargl\":[{\"type\":\"scatterpolargl\",\"marker\":{\"colorbar\":{\"outlinewidth\":0,\"ticks\":\"\"}}}],\"bar\":[{\"error_x\":{\"color\":\"#2a3f5f\"},\"error_y\":{\"color\":\"#2a3f5f\"},\"marker\":{\"line\":{\"color\":\"#E5ECF6\",\"width\":0.5},\"pattern\":{\"fillmode\":\"overlay\",\"size\":10,\"solidity\":0.2}},\"type\":\"bar\"}],\"scattergeo\":[{\"type\":\"scattergeo\",\"marker\":{\"colorbar\":{\"outlinewidth\":0,\"ticks\":\"\"}}}],\"scatterpolar\":[{\"type\":\"scatterpolar\",\"marker\":{\"colorbar\":{\"outlinewidth\":0,\"ticks\":\"\"}}}],\"histogram\":[{\"marker\":{\"pattern\":{\"fillmode\":\"overlay\",\"size\":10,\"solidity\":0.2}},\"type\":\"histogram\"}],\"scattergl\":[{\"type\":\"scattergl\",\"marker\":{\"colorbar\":{\"outlinewidth\":0,\"ticks\":\"\"}}}],\"scatter3d\":[{\"type\":\"scatter3d\",\"line\":{\"colorbar\":{\"outlinewidth\":0,\"ticks\":\"\"}},\"marker\":{\"colorbar\":{\"outlinewidth\":0,\"ticks\":\"\"}}}],\"scattermapbox\":[{\"type\":\"scattermapbox\",\"marker\":{\"colorbar\":{\"outlinewidth\":0,\"ticks\":\"\"}}}],\"scatterternary\":[{\"type\":\"scatterternary\",\"marker\":{\"colorbar\":{\"outlinewidth\":0,\"ticks\":\"\"}}}],\"scattercarpet\":[{\"type\":\"scattercarpet\",\"marker\":{\"colorbar\":{\"outlinewidth\":0,\"ticks\":\"\"}}}],\"carpet\":[{\"aaxis\":{\"endlinecolor\":\"#2a3f5f\",\"gridcolor\":\"white\",\"linecolor\":\"white\",\"minorgridcolor\":\"white\",\"startlinecolor\":\"#2a3f5f\"},\"baxis\":{\"endlinecolor\":\"#2a3f5f\",\"gridcolor\":\"white\",\"linecolor\":\"white\",\"minorgridcolor\":\"white\",\"startlinecolor\":\"#2a3f5f\"},\"type\":\"carpet\"}],\"table\":[{\"cells\":{\"fill\":{\"color\":\"#EBF0F8\"},\"line\":{\"color\":\"white\"}},\"header\":{\"fill\":{\"color\":\"#C8D4E3\"},\"line\":{\"color\":\"white\"}},\"type\":\"table\"}],\"barpolar\":[{\"marker\":{\"line\":{\"color\":\"#E5ECF6\",\"width\":0.5},\"pattern\":{\"fillmode\":\"overlay\",\"size\":10,\"solidity\":0.2}},\"type\":\"barpolar\"}],\"pie\":[{\"automargin\":true,\"type\":\"pie\"}]},\"layout\":{\"autotypenumbers\":\"strict\",\"colorway\":[\"#636efa\",\"#EF553B\",\"#00cc96\",\"#ab63fa\",\"#FFA15A\",\"#19d3f3\",\"#FF6692\",\"#B6E880\",\"#FF97FF\",\"#FECB52\"],\"font\":{\"color\":\"#2a3f5f\"},\"hovermode\":\"closest\",\"hoverlabel\":{\"align\":\"left\"},\"paper_bgcolor\":\"white\",\"plot_bgcolor\":\"#E5ECF6\",\"polar\":{\"bgcolor\":\"#E5ECF6\",\"angularaxis\":{\"gridcolor\":\"white\",\"linecolor\":\"white\",\"ticks\":\"\"},\"radialaxis\":{\"gridcolor\":\"white\",\"linecolor\":\"white\",\"ticks\":\"\"}},\"ternary\":{\"bgcolor\":\"#E5ECF6\",\"aaxis\":{\"gridcolor\":\"white\",\"linecolor\":\"white\",\"ticks\":\"\"},\"baxis\":{\"gridcolor\":\"white\",\"linecolor\":\"white\",\"ticks\":\"\"},\"caxis\":{\"gridcolor\":\"white\",\"linecolor\":\"white\",\"ticks\":\"\"}},\"coloraxis\":{\"colorbar\":{\"outlinewidth\":0,\"ticks\":\"\"}},\"colorscale\":{\"sequential\":[[0.0,\"#0d0887\"],[0.1111111111111111,\"#46039f\"],[0.2222222222222222,\"#7201a8\"],[0.3333333333333333,\"#9c179e\"],[0.4444444444444444,\"#bd3786\"],[0.5555555555555556,\"#d8576b\"],[0.6666666666666666,\"#ed7953\"],[0.7777777777777778,\"#fb9f3a\"],[0.8888888888888888,\"#fdca26\"],[1.0,\"#f0f921\"]],\"sequentialminus\":[[0.0,\"#0d0887\"],[0.1111111111111111,\"#46039f\"],[0.2222222222222222,\"#7201a8\"],[0.3333333333333333,\"#9c179e\"],[0.4444444444444444,\"#bd3786\"],[0.5555555555555556,\"#d8576b\"],[0.6666666666666666,\"#ed7953\"],[0.7777777777777778,\"#fb9f3a\"],[0.8888888888888888,\"#fdca26\"],[1.0,\"#f0f921\"]],\"diverging\":[[0,\"#8e0152\"],[0.1,\"#c51b7d\"],[0.2,\"#de77ae\"],[0.3,\"#f1b6da\"],[0.4,\"#fde0ef\"],[0.5,\"#f7f7f7\"],[0.6,\"#e6f5d0\"],[0.7,\"#b8e186\"],[0.8,\"#7fbc41\"],[0.9,\"#4d9221\"],[1,\"#276419\"]]},\"xaxis\":{\"gridcolor\":\"white\",\"linecolor\":\"white\",\"ticks\":\"\",\"title\":{\"standoff\":15},\"zerolinecolor\":\"white\",\"automargin\":true,\"zerolinewidth\":2},\"yaxis\":{\"gridcolor\":\"white\",\"linecolor\":\"white\",\"ticks\":\"\",\"title\":{\"standoff\":15},\"zerolinecolor\":\"white\",\"automargin\":true,\"zerolinewidth\":2},\"scene\":{\"xaxis\":{\"backgroundcolor\":\"#E5ECF6\",\"gridcolor\":\"white\",\"linecolor\":\"white\",\"showbackground\":true,\"ticks\":\"\",\"zerolinecolor\":\"white\",\"gridwidth\":2},\"yaxis\":{\"backgroundcolor\":\"#E5ECF6\",\"gridcolor\":\"white\",\"linecolor\":\"white\",\"showbackground\":true,\"ticks\":\"\",\"zerolinecolor\":\"white\",\"gridwidth\":2},\"zaxis\":{\"backgroundcolor\":\"#E5ECF6\",\"gridcolor\":\"white\",\"linecolor\":\"white\",\"showbackground\":true,\"ticks\":\"\",\"zerolinecolor\":\"white\",\"gridwidth\":2}},\"shapedefaults\":{\"line\":{\"color\":\"#2a3f5f\"}},\"annotationdefaults\":{\"arrowcolor\":\"#2a3f5f\",\"arrowhead\":0,\"arrowwidth\":1},\"geo\":{\"bgcolor\":\"white\",\"landcolor\":\"#E5ECF6\",\"subunitcolor\":\"white\",\"showland\":true,\"showlakes\":true,\"lakecolor\":\"white\"},\"title\":{\"x\":0.05},\"mapbox\":{\"style\":\"light\"}}},\"title\":{\"text\":\"Population Pyramid of Argentina by year 1960\",\"font\":{\"size\":22}},\"xaxis\":{\"title\":{\"text\":\"Population in %\",\"font\":{\"size\":14}},\"tickvals\":[-10,-7.5,-5,-2.5,0,2.5,5,7.5,10],\"ticktext\":[\"100 %\",\"75 %\",\"50 %\",\"25 %\",\"0 %\",\"25 %\",\"50 %\",\"75 %\",\"100%\"]},\"barmode\":\"relative\",\"bargap\":0.0,\"bargroupgap\":0},                        {\"responsive\": true}                    ).then(function(){\n",
       "                            \n",
       "var gd = document.getElementById('a55aedd3-79b8-45d9-b607-85d52a5d7879');\n",
       "var x = new MutationObserver(function (mutations, observer) {{\n",
       "        var display = window.getComputedStyle(gd).display;\n",
       "        if (!display || display === 'none') {{\n",
       "            console.log([gd, 'removed!']);\n",
       "            Plotly.purge(gd);\n",
       "            observer.disconnect();\n",
       "        }}\n",
       "}});\n",
       "\n",
       "// Listen for the removal of the full notebook cells\n",
       "var notebookContainer = gd.closest('#notebook-container');\n",
       "if (notebookContainer) {{\n",
       "    x.observe(notebookContainer, {childList: true});\n",
       "}}\n",
       "\n",
       "// Listen for the clearing of the current output cell\n",
       "var outputEl = gd.closest('.output');\n",
       "if (outputEl) {{\n",
       "    x.observe(outputEl, {childList: true});\n",
       "}}\n",
       "\n",
       "                        })                };                });            </script>        </div>"
      ]
     },
     "metadata": {},
     "output_type": "display_data"
    }
   ],
   "source": [
    "año= input('ingrese el año que desea analizar (1960-2020):')\n",
    "\n",
    "añof=poblacion_femenina[año].to_frame()\n",
    "añof.rename(columns={año:'Femenino'}, inplace=True)\n",
    "añom=poblacion_masculina[año].to_frame()\n",
    "añom.rename(columns={año:'Masculino'}, inplace=True)\n",
    "\n",
    "datosxaño= pd.concat([añof,añom],axis=1)\n",
    "\n",
    "#graficos\n",
    "\n",
    "# Creating instance of the figure\n",
    "fig = gp.Figure()\n",
    "  \n",
    "# Adding Male data to the figure\n",
    "fig.add_trace(gp.Bar(y= datosxaño.index, x = datosxaño['Masculino'], \n",
    "                     name = 'Male', \n",
    "                     orientation = 'h'))\n",
    "  \n",
    "# Adding Female data to the figure\n",
    "fig.add_trace(gp.Bar(y = datosxaño.index, x = datosxaño['Masculino']*-1,\n",
    "                     name = 'Female', orientation = 'h'))\n",
    "  \n",
    "# Updating the layout for our graph\n",
    "fig.update_layout(title = f'Population Pyramid of Argentina by year {año}',\n",
    "                 title_font_size = 22, barmode = 'relative',\n",
    "                 bargap = 0.0, bargroupgap = 0,\n",
    "                 xaxis = dict(tickvals = [-10, -7.5, -5, -2.5, \n",
    "                                          0, 2.5, 5, 7.5, 10],\n",
    "                                \n",
    "                              ticktext = ['100 %', '75 %', '50 %', '25 %',\n",
    "                                         '0 %', '25 %', '50 %', '75 %', '100%'],\n",
    "                                \n",
    "                              title = 'Population in %',\n",
    "                              title_font_size = 14)\n",
    "                 )\n",
    "  "
   ]
  },
  {
   "cell_type": "code",
   "execution_count": 233,
   "id": "c9258ce9",
   "metadata": {},
   "outputs": [
    {
     "name": "stdout",
     "output_type": "stream",
     "text": [
      "ingrese el año que desea analizar (1960-2020):1989\n"
     ]
    },
    {
     "data": {
      "application/vnd.plotly.v1+json": {
       "config": {
        "plotlyServerURL": "https://plot.ly"
       },
       "data": [
        {
         "name": "Male",
         "orientation": "h",
         "type": "bar",
         "x": [
          11.0381316171467,
          10.7025075100187,
          10.3333133321503,
          8.61184342393018,
          7.69372528843195,
          7.29572302361714,
          6.84930938468275,
          6.5036251080383,
          5.92168004830924,
          5.07702796037723,
          4.54667318620123,
          4.24442764912478,
          3.70898533998394,
          2.91756406017207,
          2.07430992726804,
          1.38236048855656,
          1.0987926519909
         ],
         "y": [
          "Population ages 00-04",
          "Population ages 05-09",
          "Population ages 10-14",
          "Population ages 15-19",
          "Population ages 20-24",
          "Population ages 25-29",
          "Population ages 30-34",
          "Population ages 35-39",
          "Population ages 40-44",
          "Population ages 45-49",
          "Population ages 50-54",
          "Population ages 55-59",
          "Population ages 60-64",
          "Population ages 65-69",
          "Population ages 70-74",
          "Population ages 75-79",
          "Population ages 80 and above"
         ]
        },
        {
         "name": "Female",
         "orientation": "h",
         "type": "bar",
         "x": [
          -11.0381316171467,
          -10.7025075100187,
          -10.3333133321503,
          -8.61184342393018,
          -7.69372528843195,
          -7.29572302361714,
          -6.84930938468275,
          -6.5036251080383,
          -5.92168004830924,
          -5.07702796037723,
          -4.54667318620123,
          -4.24442764912478,
          -3.70898533998394,
          -2.91756406017207,
          -2.07430992726804,
          -1.38236048855656,
          -1.0987926519909
         ],
         "y": [
          "Population ages 00-04",
          "Population ages 05-09",
          "Population ages 10-14",
          "Population ages 15-19",
          "Population ages 20-24",
          "Population ages 25-29",
          "Population ages 30-34",
          "Population ages 35-39",
          "Population ages 40-44",
          "Population ages 45-49",
          "Population ages 50-54",
          "Population ages 55-59",
          "Population ages 60-64",
          "Population ages 65-69",
          "Population ages 70-74",
          "Population ages 75-79",
          "Population ages 80 and above"
         ]
        }
       ],
       "layout": {
        "bargap": 0,
        "bargroupgap": 0,
        "barmode": "relative",
        "template": {
         "data": {
          "bar": [
           {
            "error_x": {
             "color": "#2a3f5f"
            },
            "error_y": {
             "color": "#2a3f5f"
            },
            "marker": {
             "line": {
              "color": "#E5ECF6",
              "width": 0.5
             },
             "pattern": {
              "fillmode": "overlay",
              "size": 10,
              "solidity": 0.2
             }
            },
            "type": "bar"
           }
          ],
          "barpolar": [
           {
            "marker": {
             "line": {
              "color": "#E5ECF6",
              "width": 0.5
             },
             "pattern": {
              "fillmode": "overlay",
              "size": 10,
              "solidity": 0.2
             }
            },
            "type": "barpolar"
           }
          ],
          "carpet": [
           {
            "aaxis": {
             "endlinecolor": "#2a3f5f",
             "gridcolor": "white",
             "linecolor": "white",
             "minorgridcolor": "white",
             "startlinecolor": "#2a3f5f"
            },
            "baxis": {
             "endlinecolor": "#2a3f5f",
             "gridcolor": "white",
             "linecolor": "white",
             "minorgridcolor": "white",
             "startlinecolor": "#2a3f5f"
            },
            "type": "carpet"
           }
          ],
          "choropleth": [
           {
            "colorbar": {
             "outlinewidth": 0,
             "ticks": ""
            },
            "type": "choropleth"
           }
          ],
          "contour": [
           {
            "colorbar": {
             "outlinewidth": 0,
             "ticks": ""
            },
            "colorscale": [
             [
              0,
              "#0d0887"
             ],
             [
              0.1111111111111111,
              "#46039f"
             ],
             [
              0.2222222222222222,
              "#7201a8"
             ],
             [
              0.3333333333333333,
              "#9c179e"
             ],
             [
              0.4444444444444444,
              "#bd3786"
             ],
             [
              0.5555555555555556,
              "#d8576b"
             ],
             [
              0.6666666666666666,
              "#ed7953"
             ],
             [
              0.7777777777777778,
              "#fb9f3a"
             ],
             [
              0.8888888888888888,
              "#fdca26"
             ],
             [
              1,
              "#f0f921"
             ]
            ],
            "type": "contour"
           }
          ],
          "contourcarpet": [
           {
            "colorbar": {
             "outlinewidth": 0,
             "ticks": ""
            },
            "type": "contourcarpet"
           }
          ],
          "heatmap": [
           {
            "colorbar": {
             "outlinewidth": 0,
             "ticks": ""
            },
            "colorscale": [
             [
              0,
              "#0d0887"
             ],
             [
              0.1111111111111111,
              "#46039f"
             ],
             [
              0.2222222222222222,
              "#7201a8"
             ],
             [
              0.3333333333333333,
              "#9c179e"
             ],
             [
              0.4444444444444444,
              "#bd3786"
             ],
             [
              0.5555555555555556,
              "#d8576b"
             ],
             [
              0.6666666666666666,
              "#ed7953"
             ],
             [
              0.7777777777777778,
              "#fb9f3a"
             ],
             [
              0.8888888888888888,
              "#fdca26"
             ],
             [
              1,
              "#f0f921"
             ]
            ],
            "type": "heatmap"
           }
          ],
          "heatmapgl": [
           {
            "colorbar": {
             "outlinewidth": 0,
             "ticks": ""
            },
            "colorscale": [
             [
              0,
              "#0d0887"
             ],
             [
              0.1111111111111111,
              "#46039f"
             ],
             [
              0.2222222222222222,
              "#7201a8"
             ],
             [
              0.3333333333333333,
              "#9c179e"
             ],
             [
              0.4444444444444444,
              "#bd3786"
             ],
             [
              0.5555555555555556,
              "#d8576b"
             ],
             [
              0.6666666666666666,
              "#ed7953"
             ],
             [
              0.7777777777777778,
              "#fb9f3a"
             ],
             [
              0.8888888888888888,
              "#fdca26"
             ],
             [
              1,
              "#f0f921"
             ]
            ],
            "type": "heatmapgl"
           }
          ],
          "histogram": [
           {
            "marker": {
             "pattern": {
              "fillmode": "overlay",
              "size": 10,
              "solidity": 0.2
             }
            },
            "type": "histogram"
           }
          ],
          "histogram2d": [
           {
            "colorbar": {
             "outlinewidth": 0,
             "ticks": ""
            },
            "colorscale": [
             [
              0,
              "#0d0887"
             ],
             [
              0.1111111111111111,
              "#46039f"
             ],
             [
              0.2222222222222222,
              "#7201a8"
             ],
             [
              0.3333333333333333,
              "#9c179e"
             ],
             [
              0.4444444444444444,
              "#bd3786"
             ],
             [
              0.5555555555555556,
              "#d8576b"
             ],
             [
              0.6666666666666666,
              "#ed7953"
             ],
             [
              0.7777777777777778,
              "#fb9f3a"
             ],
             [
              0.8888888888888888,
              "#fdca26"
             ],
             [
              1,
              "#f0f921"
             ]
            ],
            "type": "histogram2d"
           }
          ],
          "histogram2dcontour": [
           {
            "colorbar": {
             "outlinewidth": 0,
             "ticks": ""
            },
            "colorscale": [
             [
              0,
              "#0d0887"
             ],
             [
              0.1111111111111111,
              "#46039f"
             ],
             [
              0.2222222222222222,
              "#7201a8"
             ],
             [
              0.3333333333333333,
              "#9c179e"
             ],
             [
              0.4444444444444444,
              "#bd3786"
             ],
             [
              0.5555555555555556,
              "#d8576b"
             ],
             [
              0.6666666666666666,
              "#ed7953"
             ],
             [
              0.7777777777777778,
              "#fb9f3a"
             ],
             [
              0.8888888888888888,
              "#fdca26"
             ],
             [
              1,
              "#f0f921"
             ]
            ],
            "type": "histogram2dcontour"
           }
          ],
          "mesh3d": [
           {
            "colorbar": {
             "outlinewidth": 0,
             "ticks": ""
            },
            "type": "mesh3d"
           }
          ],
          "parcoords": [
           {
            "line": {
             "colorbar": {
              "outlinewidth": 0,
              "ticks": ""
             }
            },
            "type": "parcoords"
           }
          ],
          "pie": [
           {
            "automargin": true,
            "type": "pie"
           }
          ],
          "scatter": [
           {
            "fillpattern": {
             "fillmode": "overlay",
             "size": 10,
             "solidity": 0.2
            },
            "type": "scatter"
           }
          ],
          "scatter3d": [
           {
            "line": {
             "colorbar": {
              "outlinewidth": 0,
              "ticks": ""
             }
            },
            "marker": {
             "colorbar": {
              "outlinewidth": 0,
              "ticks": ""
             }
            },
            "type": "scatter3d"
           }
          ],
          "scattercarpet": [
           {
            "marker": {
             "colorbar": {
              "outlinewidth": 0,
              "ticks": ""
             }
            },
            "type": "scattercarpet"
           }
          ],
          "scattergeo": [
           {
            "marker": {
             "colorbar": {
              "outlinewidth": 0,
              "ticks": ""
             }
            },
            "type": "scattergeo"
           }
          ],
          "scattergl": [
           {
            "marker": {
             "colorbar": {
              "outlinewidth": 0,
              "ticks": ""
             }
            },
            "type": "scattergl"
           }
          ],
          "scattermapbox": [
           {
            "marker": {
             "colorbar": {
              "outlinewidth": 0,
              "ticks": ""
             }
            },
            "type": "scattermapbox"
           }
          ],
          "scatterpolar": [
           {
            "marker": {
             "colorbar": {
              "outlinewidth": 0,
              "ticks": ""
             }
            },
            "type": "scatterpolar"
           }
          ],
          "scatterpolargl": [
           {
            "marker": {
             "colorbar": {
              "outlinewidth": 0,
              "ticks": ""
             }
            },
            "type": "scatterpolargl"
           }
          ],
          "scatterternary": [
           {
            "marker": {
             "colorbar": {
              "outlinewidth": 0,
              "ticks": ""
             }
            },
            "type": "scatterternary"
           }
          ],
          "surface": [
           {
            "colorbar": {
             "outlinewidth": 0,
             "ticks": ""
            },
            "colorscale": [
             [
              0,
              "#0d0887"
             ],
             [
              0.1111111111111111,
              "#46039f"
             ],
             [
              0.2222222222222222,
              "#7201a8"
             ],
             [
              0.3333333333333333,
              "#9c179e"
             ],
             [
              0.4444444444444444,
              "#bd3786"
             ],
             [
              0.5555555555555556,
              "#d8576b"
             ],
             [
              0.6666666666666666,
              "#ed7953"
             ],
             [
              0.7777777777777778,
              "#fb9f3a"
             ],
             [
              0.8888888888888888,
              "#fdca26"
             ],
             [
              1,
              "#f0f921"
             ]
            ],
            "type": "surface"
           }
          ],
          "table": [
           {
            "cells": {
             "fill": {
              "color": "#EBF0F8"
             },
             "line": {
              "color": "white"
             }
            },
            "header": {
             "fill": {
              "color": "#C8D4E3"
             },
             "line": {
              "color": "white"
             }
            },
            "type": "table"
           }
          ]
         },
         "layout": {
          "annotationdefaults": {
           "arrowcolor": "#2a3f5f",
           "arrowhead": 0,
           "arrowwidth": 1
          },
          "autotypenumbers": "strict",
          "coloraxis": {
           "colorbar": {
            "outlinewidth": 0,
            "ticks": ""
           }
          },
          "colorscale": {
           "diverging": [
            [
             0,
             "#8e0152"
            ],
            [
             0.1,
             "#c51b7d"
            ],
            [
             0.2,
             "#de77ae"
            ],
            [
             0.3,
             "#f1b6da"
            ],
            [
             0.4,
             "#fde0ef"
            ],
            [
             0.5,
             "#f7f7f7"
            ],
            [
             0.6,
             "#e6f5d0"
            ],
            [
             0.7,
             "#b8e186"
            ],
            [
             0.8,
             "#7fbc41"
            ],
            [
             0.9,
             "#4d9221"
            ],
            [
             1,
             "#276419"
            ]
           ],
           "sequential": [
            [
             0,
             "#0d0887"
            ],
            [
             0.1111111111111111,
             "#46039f"
            ],
            [
             0.2222222222222222,
             "#7201a8"
            ],
            [
             0.3333333333333333,
             "#9c179e"
            ],
            [
             0.4444444444444444,
             "#bd3786"
            ],
            [
             0.5555555555555556,
             "#d8576b"
            ],
            [
             0.6666666666666666,
             "#ed7953"
            ],
            [
             0.7777777777777778,
             "#fb9f3a"
            ],
            [
             0.8888888888888888,
             "#fdca26"
            ],
            [
             1,
             "#f0f921"
            ]
           ],
           "sequentialminus": [
            [
             0,
             "#0d0887"
            ],
            [
             0.1111111111111111,
             "#46039f"
            ],
            [
             0.2222222222222222,
             "#7201a8"
            ],
            [
             0.3333333333333333,
             "#9c179e"
            ],
            [
             0.4444444444444444,
             "#bd3786"
            ],
            [
             0.5555555555555556,
             "#d8576b"
            ],
            [
             0.6666666666666666,
             "#ed7953"
            ],
            [
             0.7777777777777778,
             "#fb9f3a"
            ],
            [
             0.8888888888888888,
             "#fdca26"
            ],
            [
             1,
             "#f0f921"
            ]
           ]
          },
          "colorway": [
           "#636efa",
           "#EF553B",
           "#00cc96",
           "#ab63fa",
           "#FFA15A",
           "#19d3f3",
           "#FF6692",
           "#B6E880",
           "#FF97FF",
           "#FECB52"
          ],
          "font": {
           "color": "#2a3f5f"
          },
          "geo": {
           "bgcolor": "white",
           "lakecolor": "white",
           "landcolor": "#E5ECF6",
           "showlakes": true,
           "showland": true,
           "subunitcolor": "white"
          },
          "hoverlabel": {
           "align": "left"
          },
          "hovermode": "closest",
          "mapbox": {
           "style": "light"
          },
          "paper_bgcolor": "white",
          "plot_bgcolor": "#E5ECF6",
          "polar": {
           "angularaxis": {
            "gridcolor": "white",
            "linecolor": "white",
            "ticks": ""
           },
           "bgcolor": "#E5ECF6",
           "radialaxis": {
            "gridcolor": "white",
            "linecolor": "white",
            "ticks": ""
           }
          },
          "scene": {
           "xaxis": {
            "backgroundcolor": "#E5ECF6",
            "gridcolor": "white",
            "gridwidth": 2,
            "linecolor": "white",
            "showbackground": true,
            "ticks": "",
            "zerolinecolor": "white"
           },
           "yaxis": {
            "backgroundcolor": "#E5ECF6",
            "gridcolor": "white",
            "gridwidth": 2,
            "linecolor": "white",
            "showbackground": true,
            "ticks": "",
            "zerolinecolor": "white"
           },
           "zaxis": {
            "backgroundcolor": "#E5ECF6",
            "gridcolor": "white",
            "gridwidth": 2,
            "linecolor": "white",
            "showbackground": true,
            "ticks": "",
            "zerolinecolor": "white"
           }
          },
          "shapedefaults": {
           "line": {
            "color": "#2a3f5f"
           }
          },
          "ternary": {
           "aaxis": {
            "gridcolor": "white",
            "linecolor": "white",
            "ticks": ""
           },
           "baxis": {
            "gridcolor": "white",
            "linecolor": "white",
            "ticks": ""
           },
           "bgcolor": "#E5ECF6",
           "caxis": {
            "gridcolor": "white",
            "linecolor": "white",
            "ticks": ""
           }
          },
          "title": {
           "x": 0.05
          },
          "xaxis": {
           "automargin": true,
           "gridcolor": "white",
           "linecolor": "white",
           "ticks": "",
           "title": {
            "standoff": 15
           },
           "zerolinecolor": "white",
           "zerolinewidth": 2
          },
          "yaxis": {
           "automargin": true,
           "gridcolor": "white",
           "linecolor": "white",
           "ticks": "",
           "title": {
            "standoff": 15
           },
           "zerolinecolor": "white",
           "zerolinewidth": 2
          }
         }
        },
        "title": {
         "font": {
          "size": 22
         },
         "text": "Population Pyramid of Argentina by year 1989"
        },
        "xaxis": {
         "ticktext": [
          "100 %",
          "75 %",
          "50 %",
          "25 %",
          "0 %",
          "25 %",
          "50 %",
          "75 %",
          "100%"
         ],
         "tickvals": [
          -10,
          -7.5,
          -5,
          -2.5,
          0,
          2.5,
          5,
          7.5,
          10
         ],
         "title": {
          "font": {
           "size": 14
          },
          "text": "Population in %"
         }
        }
       }
      },
      "text/html": [
       "<div>                            <div id=\"6b3cf98b-09da-42d7-bcef-a8fa153a8ee8\" class=\"plotly-graph-div\" style=\"height:525px; width:100%;\"></div>            <script type=\"text/javascript\">                require([\"plotly\"], function(Plotly) {                    window.PLOTLYENV=window.PLOTLYENV || {};                                    if (document.getElementById(\"6b3cf98b-09da-42d7-bcef-a8fa153a8ee8\")) {                    Plotly.newPlot(                        \"6b3cf98b-09da-42d7-bcef-a8fa153a8ee8\",                        [{\"name\":\"Male\",\"orientation\":\"h\",\"x\":[11.0381316171467,10.7025075100187,10.3333133321503,8.61184342393018,7.69372528843195,7.29572302361714,6.84930938468275,6.5036251080383,5.92168004830924,5.07702796037723,4.54667318620123,4.24442764912478,3.70898533998394,2.91756406017207,2.07430992726804,1.38236048855656,1.0987926519909],\"y\":[\"Population ages 00-04\",\"Population ages 05-09\",\"Population ages 10-14\",\"Population ages 15-19\",\"Population ages 20-24\",\"Population ages 25-29\",\"Population ages 30-34\",\"Population ages 35-39\",\"Population ages 40-44\",\"Population ages 45-49\",\"Population ages 50-54\",\"Population ages 55-59\",\"Population ages 60-64\",\"Population ages 65-69\",\"Population ages 70-74\",\"Population ages 75-79\",\"Population ages 80 and above\"],\"type\":\"bar\"},{\"name\":\"Female\",\"orientation\":\"h\",\"x\":[-11.0381316171467,-10.7025075100187,-10.3333133321503,-8.61184342393018,-7.69372528843195,-7.29572302361714,-6.84930938468275,-6.5036251080383,-5.92168004830924,-5.07702796037723,-4.54667318620123,-4.24442764912478,-3.70898533998394,-2.91756406017207,-2.07430992726804,-1.38236048855656,-1.0987926519909],\"y\":[\"Population ages 00-04\",\"Population ages 05-09\",\"Population ages 10-14\",\"Population ages 15-19\",\"Population ages 20-24\",\"Population ages 25-29\",\"Population ages 30-34\",\"Population ages 35-39\",\"Population ages 40-44\",\"Population ages 45-49\",\"Population ages 50-54\",\"Population ages 55-59\",\"Population ages 60-64\",\"Population ages 65-69\",\"Population ages 70-74\",\"Population ages 75-79\",\"Population ages 80 and above\"],\"type\":\"bar\"}],                        {\"template\":{\"data\":{\"histogram2dcontour\":[{\"type\":\"histogram2dcontour\",\"colorbar\":{\"outlinewidth\":0,\"ticks\":\"\"},\"colorscale\":[[0.0,\"#0d0887\"],[0.1111111111111111,\"#46039f\"],[0.2222222222222222,\"#7201a8\"],[0.3333333333333333,\"#9c179e\"],[0.4444444444444444,\"#bd3786\"],[0.5555555555555556,\"#d8576b\"],[0.6666666666666666,\"#ed7953\"],[0.7777777777777778,\"#fb9f3a\"],[0.8888888888888888,\"#fdca26\"],[1.0,\"#f0f921\"]]}],\"choropleth\":[{\"type\":\"choropleth\",\"colorbar\":{\"outlinewidth\":0,\"ticks\":\"\"}}],\"histogram2d\":[{\"type\":\"histogram2d\",\"colorbar\":{\"outlinewidth\":0,\"ticks\":\"\"},\"colorscale\":[[0.0,\"#0d0887\"],[0.1111111111111111,\"#46039f\"],[0.2222222222222222,\"#7201a8\"],[0.3333333333333333,\"#9c179e\"],[0.4444444444444444,\"#bd3786\"],[0.5555555555555556,\"#d8576b\"],[0.6666666666666666,\"#ed7953\"],[0.7777777777777778,\"#fb9f3a\"],[0.8888888888888888,\"#fdca26\"],[1.0,\"#f0f921\"]]}],\"heatmap\":[{\"type\":\"heatmap\",\"colorbar\":{\"outlinewidth\":0,\"ticks\":\"\"},\"colorscale\":[[0.0,\"#0d0887\"],[0.1111111111111111,\"#46039f\"],[0.2222222222222222,\"#7201a8\"],[0.3333333333333333,\"#9c179e\"],[0.4444444444444444,\"#bd3786\"],[0.5555555555555556,\"#d8576b\"],[0.6666666666666666,\"#ed7953\"],[0.7777777777777778,\"#fb9f3a\"],[0.8888888888888888,\"#fdca26\"],[1.0,\"#f0f921\"]]}],\"heatmapgl\":[{\"type\":\"heatmapgl\",\"colorbar\":{\"outlinewidth\":0,\"ticks\":\"\"},\"colorscale\":[[0.0,\"#0d0887\"],[0.1111111111111111,\"#46039f\"],[0.2222222222222222,\"#7201a8\"],[0.3333333333333333,\"#9c179e\"],[0.4444444444444444,\"#bd3786\"],[0.5555555555555556,\"#d8576b\"],[0.6666666666666666,\"#ed7953\"],[0.7777777777777778,\"#fb9f3a\"],[0.8888888888888888,\"#fdca26\"],[1.0,\"#f0f921\"]]}],\"contourcarpet\":[{\"type\":\"contourcarpet\",\"colorbar\":{\"outlinewidth\":0,\"ticks\":\"\"}}],\"contour\":[{\"type\":\"contour\",\"colorbar\":{\"outlinewidth\":0,\"ticks\":\"\"},\"colorscale\":[[0.0,\"#0d0887\"],[0.1111111111111111,\"#46039f\"],[0.2222222222222222,\"#7201a8\"],[0.3333333333333333,\"#9c179e\"],[0.4444444444444444,\"#bd3786\"],[0.5555555555555556,\"#d8576b\"],[0.6666666666666666,\"#ed7953\"],[0.7777777777777778,\"#fb9f3a\"],[0.8888888888888888,\"#fdca26\"],[1.0,\"#f0f921\"]]}],\"surface\":[{\"type\":\"surface\",\"colorbar\":{\"outlinewidth\":0,\"ticks\":\"\"},\"colorscale\":[[0.0,\"#0d0887\"],[0.1111111111111111,\"#46039f\"],[0.2222222222222222,\"#7201a8\"],[0.3333333333333333,\"#9c179e\"],[0.4444444444444444,\"#bd3786\"],[0.5555555555555556,\"#d8576b\"],[0.6666666666666666,\"#ed7953\"],[0.7777777777777778,\"#fb9f3a\"],[0.8888888888888888,\"#fdca26\"],[1.0,\"#f0f921\"]]}],\"mesh3d\":[{\"type\":\"mesh3d\",\"colorbar\":{\"outlinewidth\":0,\"ticks\":\"\"}}],\"scatter\":[{\"fillpattern\":{\"fillmode\":\"overlay\",\"size\":10,\"solidity\":0.2},\"type\":\"scatter\"}],\"parcoords\":[{\"type\":\"parcoords\",\"line\":{\"colorbar\":{\"outlinewidth\":0,\"ticks\":\"\"}}}],\"scatterpolargl\":[{\"type\":\"scatterpolargl\",\"marker\":{\"colorbar\":{\"outlinewidth\":0,\"ticks\":\"\"}}}],\"bar\":[{\"error_x\":{\"color\":\"#2a3f5f\"},\"error_y\":{\"color\":\"#2a3f5f\"},\"marker\":{\"line\":{\"color\":\"#E5ECF6\",\"width\":0.5},\"pattern\":{\"fillmode\":\"overlay\",\"size\":10,\"solidity\":0.2}},\"type\":\"bar\"}],\"scattergeo\":[{\"type\":\"scattergeo\",\"marker\":{\"colorbar\":{\"outlinewidth\":0,\"ticks\":\"\"}}}],\"scatterpolar\":[{\"type\":\"scatterpolar\",\"marker\":{\"colorbar\":{\"outlinewidth\":0,\"ticks\":\"\"}}}],\"histogram\":[{\"marker\":{\"pattern\":{\"fillmode\":\"overlay\",\"size\":10,\"solidity\":0.2}},\"type\":\"histogram\"}],\"scattergl\":[{\"type\":\"scattergl\",\"marker\":{\"colorbar\":{\"outlinewidth\":0,\"ticks\":\"\"}}}],\"scatter3d\":[{\"type\":\"scatter3d\",\"line\":{\"colorbar\":{\"outlinewidth\":0,\"ticks\":\"\"}},\"marker\":{\"colorbar\":{\"outlinewidth\":0,\"ticks\":\"\"}}}],\"scattermapbox\":[{\"type\":\"scattermapbox\",\"marker\":{\"colorbar\":{\"outlinewidth\":0,\"ticks\":\"\"}}}],\"scatterternary\":[{\"type\":\"scatterternary\",\"marker\":{\"colorbar\":{\"outlinewidth\":0,\"ticks\":\"\"}}}],\"scattercarpet\":[{\"type\":\"scattercarpet\",\"marker\":{\"colorbar\":{\"outlinewidth\":0,\"ticks\":\"\"}}}],\"carpet\":[{\"aaxis\":{\"endlinecolor\":\"#2a3f5f\",\"gridcolor\":\"white\",\"linecolor\":\"white\",\"minorgridcolor\":\"white\",\"startlinecolor\":\"#2a3f5f\"},\"baxis\":{\"endlinecolor\":\"#2a3f5f\",\"gridcolor\":\"white\",\"linecolor\":\"white\",\"minorgridcolor\":\"white\",\"startlinecolor\":\"#2a3f5f\"},\"type\":\"carpet\"}],\"table\":[{\"cells\":{\"fill\":{\"color\":\"#EBF0F8\"},\"line\":{\"color\":\"white\"}},\"header\":{\"fill\":{\"color\":\"#C8D4E3\"},\"line\":{\"color\":\"white\"}},\"type\":\"table\"}],\"barpolar\":[{\"marker\":{\"line\":{\"color\":\"#E5ECF6\",\"width\":0.5},\"pattern\":{\"fillmode\":\"overlay\",\"size\":10,\"solidity\":0.2}},\"type\":\"barpolar\"}],\"pie\":[{\"automargin\":true,\"type\":\"pie\"}]},\"layout\":{\"autotypenumbers\":\"strict\",\"colorway\":[\"#636efa\",\"#EF553B\",\"#00cc96\",\"#ab63fa\",\"#FFA15A\",\"#19d3f3\",\"#FF6692\",\"#B6E880\",\"#FF97FF\",\"#FECB52\"],\"font\":{\"color\":\"#2a3f5f\"},\"hovermode\":\"closest\",\"hoverlabel\":{\"align\":\"left\"},\"paper_bgcolor\":\"white\",\"plot_bgcolor\":\"#E5ECF6\",\"polar\":{\"bgcolor\":\"#E5ECF6\",\"angularaxis\":{\"gridcolor\":\"white\",\"linecolor\":\"white\",\"ticks\":\"\"},\"radialaxis\":{\"gridcolor\":\"white\",\"linecolor\":\"white\",\"ticks\":\"\"}},\"ternary\":{\"bgcolor\":\"#E5ECF6\",\"aaxis\":{\"gridcolor\":\"white\",\"linecolor\":\"white\",\"ticks\":\"\"},\"baxis\":{\"gridcolor\":\"white\",\"linecolor\":\"white\",\"ticks\":\"\"},\"caxis\":{\"gridcolor\":\"white\",\"linecolor\":\"white\",\"ticks\":\"\"}},\"coloraxis\":{\"colorbar\":{\"outlinewidth\":0,\"ticks\":\"\"}},\"colorscale\":{\"sequential\":[[0.0,\"#0d0887\"],[0.1111111111111111,\"#46039f\"],[0.2222222222222222,\"#7201a8\"],[0.3333333333333333,\"#9c179e\"],[0.4444444444444444,\"#bd3786\"],[0.5555555555555556,\"#d8576b\"],[0.6666666666666666,\"#ed7953\"],[0.7777777777777778,\"#fb9f3a\"],[0.8888888888888888,\"#fdca26\"],[1.0,\"#f0f921\"]],\"sequentialminus\":[[0.0,\"#0d0887\"],[0.1111111111111111,\"#46039f\"],[0.2222222222222222,\"#7201a8\"],[0.3333333333333333,\"#9c179e\"],[0.4444444444444444,\"#bd3786\"],[0.5555555555555556,\"#d8576b\"],[0.6666666666666666,\"#ed7953\"],[0.7777777777777778,\"#fb9f3a\"],[0.8888888888888888,\"#fdca26\"],[1.0,\"#f0f921\"]],\"diverging\":[[0,\"#8e0152\"],[0.1,\"#c51b7d\"],[0.2,\"#de77ae\"],[0.3,\"#f1b6da\"],[0.4,\"#fde0ef\"],[0.5,\"#f7f7f7\"],[0.6,\"#e6f5d0\"],[0.7,\"#b8e186\"],[0.8,\"#7fbc41\"],[0.9,\"#4d9221\"],[1,\"#276419\"]]},\"xaxis\":{\"gridcolor\":\"white\",\"linecolor\":\"white\",\"ticks\":\"\",\"title\":{\"standoff\":15},\"zerolinecolor\":\"white\",\"automargin\":true,\"zerolinewidth\":2},\"yaxis\":{\"gridcolor\":\"white\",\"linecolor\":\"white\",\"ticks\":\"\",\"title\":{\"standoff\":15},\"zerolinecolor\":\"white\",\"automargin\":true,\"zerolinewidth\":2},\"scene\":{\"xaxis\":{\"backgroundcolor\":\"#E5ECF6\",\"gridcolor\":\"white\",\"linecolor\":\"white\",\"showbackground\":true,\"ticks\":\"\",\"zerolinecolor\":\"white\",\"gridwidth\":2},\"yaxis\":{\"backgroundcolor\":\"#E5ECF6\",\"gridcolor\":\"white\",\"linecolor\":\"white\",\"showbackground\":true,\"ticks\":\"\",\"zerolinecolor\":\"white\",\"gridwidth\":2},\"zaxis\":{\"backgroundcolor\":\"#E5ECF6\",\"gridcolor\":\"white\",\"linecolor\":\"white\",\"showbackground\":true,\"ticks\":\"\",\"zerolinecolor\":\"white\",\"gridwidth\":2}},\"shapedefaults\":{\"line\":{\"color\":\"#2a3f5f\"}},\"annotationdefaults\":{\"arrowcolor\":\"#2a3f5f\",\"arrowhead\":0,\"arrowwidth\":1},\"geo\":{\"bgcolor\":\"white\",\"landcolor\":\"#E5ECF6\",\"subunitcolor\":\"white\",\"showland\":true,\"showlakes\":true,\"lakecolor\":\"white\"},\"title\":{\"x\":0.05},\"mapbox\":{\"style\":\"light\"}}},\"title\":{\"text\":\"Population Pyramid of Argentina by year 1989\",\"font\":{\"size\":22}},\"xaxis\":{\"title\":{\"text\":\"Population in %\",\"font\":{\"size\":14}},\"tickvals\":[-10,-7.5,-5,-2.5,0,2.5,5,7.5,10],\"ticktext\":[\"100 %\",\"75 %\",\"50 %\",\"25 %\",\"0 %\",\"25 %\",\"50 %\",\"75 %\",\"100%\"]},\"barmode\":\"relative\",\"bargap\":0.0,\"bargroupgap\":0},                        {\"responsive\": true}                    ).then(function(){\n",
       "                            \n",
       "var gd = document.getElementById('6b3cf98b-09da-42d7-bcef-a8fa153a8ee8');\n",
       "var x = new MutationObserver(function (mutations, observer) {{\n",
       "        var display = window.getComputedStyle(gd).display;\n",
       "        if (!display || display === 'none') {{\n",
       "            console.log([gd, 'removed!']);\n",
       "            Plotly.purge(gd);\n",
       "            observer.disconnect();\n",
       "        }}\n",
       "}});\n",
       "\n",
       "// Listen for the removal of the full notebook cells\n",
       "var notebookContainer = gd.closest('#notebook-container');\n",
       "if (notebookContainer) {{\n",
       "    x.observe(notebookContainer, {childList: true});\n",
       "}}\n",
       "\n",
       "// Listen for the clearing of the current output cell\n",
       "var outputEl = gd.closest('.output');\n",
       "if (outputEl) {{\n",
       "    x.observe(outputEl, {childList: true});\n",
       "}}\n",
       "\n",
       "                        })                };                });            </script>        </div>"
      ]
     },
     "metadata": {},
     "output_type": "display_data"
    }
   ],
   "source": [
    "año= input('ingrese el año que desea analizar (1960-2020):')\n",
    "\n",
    "añof=poblacion_femenina[año].to_frame()\n",
    "añof.rename(columns={año:'Femenino'}, inplace=True)\n",
    "añom=poblacion_masculina[año].to_frame()\n",
    "añom.rename(columns={año:'Masculino'}, inplace=True)\n",
    "\n",
    "datosxaño= pd.concat([añof,añom],axis=1)\n",
    "\n",
    "#graficos\n",
    "\n",
    "# Creating instance of the figure\n",
    "fig = gp.Figure()\n",
    "  \n",
    "# Adding Male data to the figure\n",
    "fig.add_trace(gp.Bar(y= datosxaño.index, x = datosxaño['Masculino'], \n",
    "                     name = 'Male', \n",
    "                     orientation = 'h'))\n",
    "  \n",
    "# Adding Female data to the figure\n",
    "fig.add_trace(gp.Bar(y = datosxaño.index, x = datosxaño['Masculino']*-1,\n",
    "                     name = 'Female', orientation = 'h'))\n",
    "  \n",
    "# Updating the layout for our graph\n",
    "fig.update_layout(title = f'Population Pyramid of Argentina by year {año}',\n",
    "                 title_font_size = 22, barmode = 'relative',\n",
    "                 bargap = 0.0, bargroupgap = 0,\n",
    "                 xaxis = dict(tickvals = [-10, -7.5, -5, -2.5, \n",
    "                                          0, 2.5, 5, 7.5, 10],\n",
    "                                \n",
    "                              ticktext = ['100 %', '75 %', '50 %', '25 %',\n",
    "                                         '0 %', '25 %', '50 %', '75 %', '100%'],\n",
    "                                \n",
    "                              title = 'Population in %',\n",
    "                              title_font_size = 14)\n",
    "                 )\n",
    "  "
   ]
  },
  {
   "cell_type": "code",
   "execution_count": null,
   "id": "4673cca4",
   "metadata": {},
   "outputs": [],
   "source": []
  }
 ],
 "metadata": {
  "kernelspec": {
   "display_name": "Python 3",
   "language": "python",
   "name": "python3"
  },
  "language_info": {
   "codemirror_mode": {
    "name": "ipython",
    "version": 3
   },
   "file_extension": ".py",
   "mimetype": "text/x-python",
   "name": "python",
   "nbconvert_exporter": "python",
   "pygments_lexer": "ipython3",
   "version": "3.8.8"
  }
 },
 "nbformat": 4,
 "nbformat_minor": 5
}
